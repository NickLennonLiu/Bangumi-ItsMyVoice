{
 "cells": [
  {
   "cell_type": "code",
   "execution_count": 2,
   "metadata": {},
   "outputs": [
    {
     "name": "stdout",
     "output_type": "stream",
     "text": [
      "Requirement already satisfied: gradio in c:\\users\\river\\miniconda3\\envs\\anivoice\\lib\\site-packages (4.40.0)\n",
      "Requirement already satisfied: aiofiles<24.0,>=22.0 in c:\\users\\river\\miniconda3\\envs\\anivoice\\lib\\site-packages (from gradio) (23.2.1)\n",
      "Requirement already satisfied: anyio<5.0,>=3.0 in c:\\users\\river\\miniconda3\\envs\\anivoice\\lib\\site-packages (from gradio) (4.4.0)\n",
      "Requirement already satisfied: fastapi in c:\\users\\river\\miniconda3\\envs\\anivoice\\lib\\site-packages (from gradio) (0.112.0)\n",
      "Requirement already satisfied: ffmpy in c:\\users\\river\\miniconda3\\envs\\anivoice\\lib\\site-packages (from gradio) (0.4.0)\n",
      "Requirement already satisfied: gradio-client==1.2.0 in c:\\users\\river\\miniconda3\\envs\\anivoice\\lib\\site-packages (from gradio) (1.2.0)\n",
      "Requirement already satisfied: httpx>=0.24.1 in c:\\users\\river\\miniconda3\\envs\\anivoice\\lib\\site-packages (from gradio) (0.27.0)\n",
      "Requirement already satisfied: huggingface-hub>=0.19.3 in c:\\users\\river\\miniconda3\\envs\\anivoice\\lib\\site-packages (from gradio) (0.24.5)\n",
      "Requirement already satisfied: importlib-resources<7.0,>=1.3 in c:\\users\\river\\miniconda3\\envs\\anivoice\\lib\\site-packages (from gradio) (6.4.0)\n",
      "Requirement already satisfied: jinja2<4.0 in c:\\users\\river\\miniconda3\\envs\\anivoice\\lib\\site-packages (from gradio) (3.1.4)\n",
      "Requirement already satisfied: markupsafe~=2.0 in c:\\users\\river\\miniconda3\\envs\\anivoice\\lib\\site-packages (from gradio) (2.1.5)\n",
      "Requirement already satisfied: matplotlib~=3.0 in c:\\users\\river\\miniconda3\\envs\\anivoice\\lib\\site-packages (from gradio) (3.9.1)\n",
      "Requirement already satisfied: numpy<3.0,>=1.0 in c:\\users\\river\\miniconda3\\envs\\anivoice\\lib\\site-packages (from gradio) (2.0.1)\n",
      "Requirement already satisfied: orjson~=3.0 in c:\\users\\river\\miniconda3\\envs\\anivoice\\lib\\site-packages (from gradio) (3.10.6)\n",
      "Requirement already satisfied: packaging in c:\\users\\river\\miniconda3\\envs\\anivoice\\lib\\site-packages (from gradio) (24.1)\n",
      "Requirement already satisfied: pandas<3.0,>=1.0 in c:\\users\\river\\miniconda3\\envs\\anivoice\\lib\\site-packages (from gradio) (2.2.2)\n",
      "Requirement already satisfied: pillow<11.0,>=8.0 in c:\\users\\river\\miniconda3\\envs\\anivoice\\lib\\site-packages (from gradio) (10.4.0)\n",
      "Requirement already satisfied: pydantic>=2.0 in c:\\users\\river\\miniconda3\\envs\\anivoice\\lib\\site-packages (from gradio) (2.8.2)\n",
      "Requirement already satisfied: pydub in c:\\users\\river\\miniconda3\\envs\\anivoice\\lib\\site-packages (from gradio) (0.25.1)\n",
      "Requirement already satisfied: python-multipart>=0.0.9 in c:\\users\\river\\miniconda3\\envs\\anivoice\\lib\\site-packages (from gradio) (0.0.9)\n",
      "Requirement already satisfied: pyyaml<7.0,>=5.0 in c:\\users\\river\\miniconda3\\envs\\anivoice\\lib\\site-packages (from gradio) (6.0.1)\n",
      "Requirement already satisfied: ruff>=0.2.2 in c:\\users\\river\\miniconda3\\envs\\anivoice\\lib\\site-packages (from gradio) (0.5.6)\n",
      "Requirement already satisfied: semantic-version~=2.0 in c:\\users\\river\\miniconda3\\envs\\anivoice\\lib\\site-packages (from gradio) (2.10.0)\n",
      "Requirement already satisfied: tomlkit==0.12.0 in c:\\users\\river\\miniconda3\\envs\\anivoice\\lib\\site-packages (from gradio) (0.12.0)\n",
      "Requirement already satisfied: typer<1.0,>=0.12 in c:\\users\\river\\miniconda3\\envs\\anivoice\\lib\\site-packages (from gradio) (0.12.3)\n",
      "Requirement already satisfied: typing-extensions~=4.0 in c:\\users\\river\\miniconda3\\envs\\anivoice\\lib\\site-packages (from gradio) (4.12.2)\n",
      "Requirement already satisfied: urllib3~=2.0 in c:\\users\\river\\miniconda3\\envs\\anivoice\\lib\\site-packages (from gradio) (2.2.2)\n",
      "Requirement already satisfied: uvicorn>=0.14.0 in c:\\users\\river\\miniconda3\\envs\\anivoice\\lib\\site-packages (from gradio) (0.30.5)\n",
      "Requirement already satisfied: fsspec in c:\\users\\river\\miniconda3\\envs\\anivoice\\lib\\site-packages (from gradio-client==1.2.0->gradio) (2024.6.1)\n",
      "Requirement already satisfied: websockets<13.0,>=10.0 in c:\\users\\river\\miniconda3\\envs\\anivoice\\lib\\site-packages (from gradio-client==1.2.0->gradio) (12.0)\n",
      "Requirement already satisfied: idna>=2.8 in c:\\users\\river\\miniconda3\\envs\\anivoice\\lib\\site-packages (from anyio<5.0,>=3.0->gradio) (3.7)\n",
      "Requirement already satisfied: sniffio>=1.1 in c:\\users\\river\\miniconda3\\envs\\anivoice\\lib\\site-packages (from anyio<5.0,>=3.0->gradio) (1.3.1)\n",
      "Requirement already satisfied: certifi in c:\\users\\river\\miniconda3\\envs\\anivoice\\lib\\site-packages (from httpx>=0.24.1->gradio) (2024.7.4)\n",
      "Requirement already satisfied: httpcore==1.* in c:\\users\\river\\miniconda3\\envs\\anivoice\\lib\\site-packages (from httpx>=0.24.1->gradio) (1.0.5)\n",
      "Requirement already satisfied: h11<0.15,>=0.13 in c:\\users\\river\\miniconda3\\envs\\anivoice\\lib\\site-packages (from httpcore==1.*->httpx>=0.24.1->gradio) (0.14.0)\n",
      "Requirement already satisfied: filelock in c:\\users\\river\\miniconda3\\envs\\anivoice\\lib\\site-packages (from huggingface-hub>=0.19.3->gradio) (3.15.4)\n",
      "Requirement already satisfied: requests in c:\\users\\river\\miniconda3\\envs\\anivoice\\lib\\site-packages (from huggingface-hub>=0.19.3->gradio) (2.32.3)\n",
      "Requirement already satisfied: tqdm>=4.42.1 in c:\\users\\river\\miniconda3\\envs\\anivoice\\lib\\site-packages (from huggingface-hub>=0.19.3->gradio) (4.66.4)\n",
      "Requirement already satisfied: contourpy>=1.0.1 in c:\\users\\river\\miniconda3\\envs\\anivoice\\lib\\site-packages (from matplotlib~=3.0->gradio) (1.2.1)\n",
      "Requirement already satisfied: cycler>=0.10 in c:\\users\\river\\miniconda3\\envs\\anivoice\\lib\\site-packages (from matplotlib~=3.0->gradio) (0.12.1)\n",
      "Requirement already satisfied: fonttools>=4.22.0 in c:\\users\\river\\miniconda3\\envs\\anivoice\\lib\\site-packages (from matplotlib~=3.0->gradio) (4.53.1)\n",
      "Requirement already satisfied: kiwisolver>=1.3.1 in c:\\users\\river\\miniconda3\\envs\\anivoice\\lib\\site-packages (from matplotlib~=3.0->gradio) (1.4.5)\n",
      "Requirement already satisfied: pyparsing>=2.3.1 in c:\\users\\river\\miniconda3\\envs\\anivoice\\lib\\site-packages (from matplotlib~=3.0->gradio) (3.1.2)\n",
      "Requirement already satisfied: python-dateutil>=2.7 in c:\\users\\river\\miniconda3\\envs\\anivoice\\lib\\site-packages (from matplotlib~=3.0->gradio) (2.9.0)\n",
      "Requirement already satisfied: pytz>=2020.1 in c:\\users\\river\\miniconda3\\envs\\anivoice\\lib\\site-packages (from pandas<3.0,>=1.0->gradio) (2024.1)\n",
      "Requirement already satisfied: tzdata>=2022.7 in c:\\users\\river\\miniconda3\\envs\\anivoice\\lib\\site-packages (from pandas<3.0,>=1.0->gradio) (2024.1)\n",
      "Requirement already satisfied: annotated-types>=0.4.0 in c:\\users\\river\\miniconda3\\envs\\anivoice\\lib\\site-packages (from pydantic>=2.0->gradio) (0.7.0)\n",
      "Requirement already satisfied: pydantic-core==2.20.1 in c:\\users\\river\\miniconda3\\envs\\anivoice\\lib\\site-packages (from pydantic>=2.0->gradio) (2.20.1)\n",
      "Requirement already satisfied: click>=8.0.0 in c:\\users\\river\\miniconda3\\envs\\anivoice\\lib\\site-packages (from typer<1.0,>=0.12->gradio) (8.1.7)\n",
      "Requirement already satisfied: shellingham>=1.3.0 in c:\\users\\river\\miniconda3\\envs\\anivoice\\lib\\site-packages (from typer<1.0,>=0.12->gradio) (1.5.4)\n",
      "Requirement already satisfied: rich>=10.11.0 in c:\\users\\river\\miniconda3\\envs\\anivoice\\lib\\site-packages (from typer<1.0,>=0.12->gradio) (13.7.1)\n",
      "Requirement already satisfied: starlette<0.38.0,>=0.37.2 in c:\\users\\river\\miniconda3\\envs\\anivoice\\lib\\site-packages (from fastapi->gradio) (0.37.2)\n",
      "Requirement already satisfied: colorama in c:\\users\\river\\miniconda3\\envs\\anivoice\\lib\\site-packages (from click>=8.0.0->typer<1.0,>=0.12->gradio) (0.4.6)\n",
      "Requirement already satisfied: six>=1.5 in c:\\users\\river\\miniconda3\\envs\\anivoice\\lib\\site-packages (from python-dateutil>=2.7->matplotlib~=3.0->gradio) (1.16.0)\n",
      "Requirement already satisfied: markdown-it-py>=2.2.0 in c:\\users\\river\\miniconda3\\envs\\anivoice\\lib\\site-packages (from rich>=10.11.0->typer<1.0,>=0.12->gradio) (3.0.0)\n",
      "Requirement already satisfied: pygments<3.0.0,>=2.13.0 in c:\\users\\river\\miniconda3\\envs\\anivoice\\lib\\site-packages (from rich>=10.11.0->typer<1.0,>=0.12->gradio) (2.18.0)\n",
      "Requirement already satisfied: charset-normalizer<4,>=2 in c:\\users\\river\\miniconda3\\envs\\anivoice\\lib\\site-packages (from requests->huggingface-hub>=0.19.3->gradio) (3.3.2)\n",
      "Requirement already satisfied: mdurl~=0.1 in c:\\users\\river\\miniconda3\\envs\\anivoice\\lib\\site-packages (from markdown-it-py>=2.2.0->rich>=10.11.0->typer<1.0,>=0.12->gradio) (0.1.2)\n",
      "Collecting toml\n",
      "  Downloading toml-0.10.2-py2.py3-none-any.whl.metadata (7.1 kB)\n",
      "Downloading toml-0.10.2-py2.py3-none-any.whl (16 kB)\n",
      "Installing collected packages: toml\n",
      "Successfully installed toml-0.10.2\n"
     ]
    }
   ],
   "source": [
    "%pip install gradio\n",
    "%pip install toml"
   ]
  },
  {
   "cell_type": "code",
   "execution_count": 1,
   "metadata": {},
   "outputs": [],
   "source": [
    "import toml, os, json, re, sys, subprocess, chardet"
   ]
  },
  {
   "cell_type": "code",
   "execution_count": 22,
   "metadata": {},
   "outputs": [],
   "source": [
    "# load config\n",
    "config_path = 'config.toml'\n",
    "config = toml.load(config_path)"
   ]
  },
  {
   "cell_type": "code",
   "execution_count": 3,
   "metadata": {},
   "outputs": [],
   "source": [
    "anime_folder = config['anime']['anime_folder']\n",
    "anime_name = config['anime']['anime_name']\n",
    "# list all mkv files and sort\n",
    "episodes = sorted([f for f in os.listdir(anime_folder) if f.endswith('.mkv')])\n",
    "# show mkv subtitles infos\n",
    "demo_episode = episodes[0]\n"
   ]
  },
  {
   "cell_type": "code",
   "execution_count": 108,
   "metadata": {},
   "outputs": [
    {
     "data": {
      "text/plain": [
       "'./output\\\\a\\\\b\\\\test.srt'"
      ]
     },
     "execution_count": 108,
     "metadata": {},
     "output_type": "execute_result"
    }
   ],
   "source": [
    "def path_util(filename, abbrs, ext=None):\n",
    "    if isinstance(abbrs, str):\n",
    "        abbrs = [abbrs]\n",
    "    \n",
    "    output_path = config['path']['output_folder']\n",
    "    path = os.path.join(output_path, *abbrs, filename)\n",
    "    folder = os.path.dirname(path)\n",
    "    if not os.path.exists(folder):\n",
    "        os.makedirs(folder)\n",
    "    \n",
    "    if ext:\n",
    "        path = os.path.splitext(path)[0] + ext\n",
    "    \n",
    "    return path\n",
    "\n",
    "path_util('test.mkv', ['a', 'b'], '.srt')"
   ]
  },
  {
   "cell_type": "code",
   "execution_count": 14,
   "metadata": {},
   "outputs": [
    {
     "name": "stdout",
     "output_type": "stream",
     "text": [
      " 驱动器 C 中的卷没有标签。\n",
      " 卷的序列号是 103A-F00F\n",
      "\n",
      " c:\\Users\\River\\Models\\AniVoiceDatasetPreparer 的目录\n",
      "\n",
      "2024/08/03  22:23    <DIR>          .\n",
      "2024/07/29  19:23    <DIR>          ..\n",
      "2024/08/03  22:16             3,234 app.py\n",
      "2024/08/03  19:26               393 config.toml\n",
      "2024/08/03  20:41               452 episode.py\n",
      "2024/08/03  19:49    <DIR>          flagged\n",
      "2024/08/03  22:39           186,986 main.ipynb\n",
      "2024/08/03  19:40    <DIR>          output\n",
      "2024/08/03  22:23    <DIR>          output_segments\n",
      "2024/08/03  18:29                 0 requirements.txt\n",
      "2024/08/03  22:33             1,791 subtitle.py\n",
      "2024/08/03  18:21    <DIR>          Tools\n",
      "2024/08/03  22:36               869 utils.py\n",
      "2024/08/03  22:37    <DIR>          __pycache__\n",
      "               7 个文件        193,725 字节\n",
      "               7 个目录 438,101,635,072 可用字节\n",
      "\n",
      "\n"
     ]
    },
    {
     "data": {
      "text/plain": [
       "(' 驱动器 C 中的卷没有标签。\\r\\n 卷的序列号是 103A-F00F\\r\\n\\r\\n c:\\\\Users\\\\River\\\\Models\\\\AniVoiceDatasetPreparer 的目录\\r\\n\\r\\n2024/08/03  22:23    <DIR>          .\\r\\n2024/07/29  19:23    <DIR>          ..\\r\\n2024/08/03  22:16             3,234 app.py\\r\\n2024/08/03  19:26               393 config.toml\\r\\n2024/08/03  20:41               452 episode.py\\r\\n2024/08/03  19:49    <DIR>          flagged\\r\\n2024/08/03  22:39           186,986 main.ipynb\\r\\n2024/08/03  19:40    <DIR>          output\\r\\n2024/08/03  22:23    <DIR>          output_segments\\r\\n2024/08/03  18:29                 0 requirements.txt\\r\\n2024/08/03  22:33             1,791 subtitle.py\\r\\n2024/08/03  18:21    <DIR>          Tools\\r\\n2024/08/03  22:36               869 utils.py\\r\\n2024/08/03  22:37    <DIR>          __pycache__\\r\\n               7 个文件        193,725 字节\\r\\n               7 个目录 438,101,635,072 可用字节\\r\\n',\n",
       " '')"
      ]
     },
     "execution_count": 14,
     "metadata": {},
     "output_type": "execute_result"
    }
   ],
   "source": [
    "def exec_cmd(cmd, print_result=False):\n",
    "    p = subprocess.Popen(cmd, shell=True, stdout=subprocess.PIPE, stderr=subprocess.PIPE)\n",
    "    out, err = p.communicate()\n",
    "    encoding = chardet.detect(out)\n",
    "    if encoding['encoding'] is None:\n",
    "        result1 = \"\"\n",
    "    else:\n",
    "        result1 = out.decode(encoding['encoding'])\n",
    "    if print:\n",
    "        print(result1)\n",
    "        \n",
    "    encoding = chardet.detect(err)\n",
    "    if encoding['encoding'] is None:\n",
    "        result2 = \"\"\n",
    "    else:\n",
    "        result2 = err.decode(encoding['encoding'])\n",
    "    if print:\n",
    "        print(result2)\n",
    "    return result1, result2\n",
    "exec_cmd('dir')"
   ]
  },
  {
   "cell_type": "code",
   "execution_count": 105,
   "metadata": {},
   "outputs": [
    {
     "name": "stdout",
     "output_type": "stream",
     "text": [
      "|  + 轨道编号: 4 (mkvmerge & mkvextract 的轨道 ID: 3)\n",
      "|  + 轨道 UID: 14831223280445349528\n",
      "|  + 轨道类型: 字幕\n",
      "|  + 语言: chi\n",
      "|  + 编码格式 ID: S_TEXT/ASS\n",
      "|  + 语言 (IETF BCP 47): zh-Hans\n",
      "|  + 名称: JPSC\n",
      "===============\n",
      "|  + 轨道编号: 5 (mkvmerge & mkvextract 的轨道 ID: 4)\n",
      "|  + 轨道 UID: 15973822311672155975\n",
      "|  + 轨道类型: 字幕\n",
      "|  + ｢紧缩｣ 标记: 0\n",
      "|  + 语言: chi\n",
      "|  + 编解码器私有数据: 大小 2520\n",
      "|  + 语言 (IETF BCP 47): zh-Hant\n",
      "===============\n"
     ]
    }
   ],
   "source": [
    "def extract_mkv_subtitle_info(file):\n",
    "    config = toml.load('config.toml')\n",
    "    mkvinfo = config['tool']['mkvinfo']\n",
    "    os_cmd = f\"{mkvinfo} \\\"{anime_folder}/{file}\\\"\"\n",
    "    # os_cmd = f\"{mkvextract}\"\n",
    "    # print(os_cmd)\n",
    "    result = exec_cmd(os_cmd)\n",
    "    # 找到result中包含'轨道编号'的行\n",
    "    # print(result)\n",
    "    \n",
    "    lines = result.split('\\n')\n",
    "    tracks = []\n",
    "    for lid, line in enumerate(lines):\n",
    "        if '轨道编号' in line and '字幕' in lines[lid+2]:\n",
    "            print(line)\n",
    "            print(lines[lid+1])\n",
    "            print(lines[lid+2])\n",
    "            print(lines[lid+4])\n",
    "            print(lines[lid+5])\n",
    "            print(lines[lid+7])\n",
    "            print(lines[lid+8])\n",
    "            print(\"===============\")\n",
    "    \n",
    "extract_mkv_subtitle_info(demo_episode)"
   ]
  },
  {
   "cell_type": "code",
   "execution_count": 115,
   "metadata": {},
   "outputs": [
    {
     "name": "stdout",
     "output_type": "stream",
     "text": [
      "Tools\\mkvtoolnix\\mkvextract.exe tracks \"\\\\RiverNAS\\RiverNAS\\Bangumi\\[Nekomoe kissaten&LoliHouse] Dungeon Meshi [WebRip 1080p HEVC-10bit AAC EAC3 ASSx2]/[Nekomoe kissaten&LoliHouse] Dungeon Meshi - 01 [WebRip 1080p HEVC-10bit AAC EAC3 ASSx2].mkv\" 3:test.srt\n",
      "正在将 CodecID 为 S_TEXT/ASS 的轨道 3 提取到文件｢test.srt｣。容器格式: SSA/ASS text subtitles\n",
      "进度: 100%\n",
      "\n"
     ]
    }
   ],
   "source": [
    "def extract_subtitle(file, track_id):\n",
    "    config = toml.load('config.toml')\n",
    "    mkvextract = config['tool']['mkvextract']\n",
    "    path = path_util(file, [anime_name, 'subtitles'], '.srt')\n",
    "    os_cmd = f\"{mkvextract} tracks \\\"{anime_folder}/{file}\\\" {track_id}:{path}\"\n",
    "    result = exec_cmd(os_cmd)\n",
    "    print(result)\n",
    "\n",
    "extract_subtitle(demo_episode, 3)"
   ]
  },
  {
   "cell_type": "code",
   "execution_count": 4,
   "metadata": {},
   "outputs": [],
   "source": [
    "demo_srt = \"C:\\\\Users\\\\River\\\\Models\\\\AniVoiceDatasetPreparer\\\\output\\\\Dungeon Meshi\\\\subtitles\\\\[Nekomoe kissaten&LoliHouse] Dungeon Meshi - 01 [WebRip 1080p HEVC-10bit AAC EAC3 ASSx2].ass\""
   ]
  },
  {
   "cell_type": "code",
   "execution_count": 5,
   "metadata": {},
   "outputs": [
    {
     "data": {
      "text/plain": [
       "'[Nekomoe kissaten&LoliHouse] Dungeon Meshi - 01 [WebRip 1080p HEVC-10bit AAC EAC3 ASSx2].mkv'"
      ]
     },
     "execution_count": 5,
     "metadata": {},
     "output_type": "execute_result"
    }
   ],
   "source": [
    "demo_episode"
   ]
  },
  {
   "cell_type": "code",
   "execution_count": 43,
   "metadata": {},
   "outputs": [
    {
     "name": "stderr",
     "output_type": "stream",
     "text": [
      "PySRT-InvalidItem(line 755): \n"
     ]
    },
    {
     "ename": "TypeError",
     "evalue": "write() argument must be str, not <class 'bytes'>",
     "output_type": "error",
     "traceback": [
      "\u001b[1;31m---------------------------------------------------------------------------\u001b[0m",
      "\u001b[1;31mInvalidItem\u001b[0m                               Traceback (most recent call last)",
      "File \u001b[1;32mc:\\Users\\River\\miniconda3\\envs\\anivoice\\Lib\\site-packages\\pysrt\\srtfile.py:212\u001b[0m, in \u001b[0;36mSubRipFile.stream\u001b[1;34m(cls, source_file, error_handling)\u001b[0m\n\u001b[0;32m    211\u001b[0m \u001b[38;5;28;01mtry\u001b[39;00m:\n\u001b[1;32m--> 212\u001b[0m     \u001b[38;5;28;01myield\u001b[39;00m \u001b[43mSubRipItem\u001b[49m\u001b[38;5;241;43m.\u001b[39;49m\u001b[43mfrom_lines\u001b[49m\u001b[43m(\u001b[49m\u001b[43msource\u001b[49m\u001b[43m)\u001b[49m\n\u001b[0;32m    213\u001b[0m \u001b[38;5;28;01mexcept\u001b[39;00m Error \u001b[38;5;28;01mas\u001b[39;00m error:\n",
      "File \u001b[1;32mc:\\Users\\River\\miniconda3\\envs\\anivoice\\Lib\\site-packages\\pysrt\\srtitem.py:88\u001b[0m, in \u001b[0;36mSubRipItem.from_lines\u001b[1;34m(cls, lines)\u001b[0m\n\u001b[0;32m     87\u001b[0m     index \u001b[38;5;241m=\u001b[39m lines\u001b[38;5;241m.\u001b[39mpop(\u001b[38;5;241m0\u001b[39m)\n\u001b[1;32m---> 88\u001b[0m start, end, position \u001b[38;5;241m=\u001b[39m \u001b[38;5;28;43mcls\u001b[39;49m\u001b[38;5;241;43m.\u001b[39;49m\u001b[43msplit_timestamps\u001b[49m\u001b[43m(\u001b[49m\u001b[43mlines\u001b[49m\u001b[43m[\u001b[49m\u001b[38;5;241;43m0\u001b[39;49m\u001b[43m]\u001b[49m\u001b[43m)\u001b[49m\n\u001b[0;32m     89\u001b[0m body \u001b[38;5;241m=\u001b[39m \u001b[38;5;124m'\u001b[39m\u001b[38;5;130;01m\\n\u001b[39;00m\u001b[38;5;124m'\u001b[39m\u001b[38;5;241m.\u001b[39mjoin(lines[\u001b[38;5;241m1\u001b[39m:])\n",
      "File \u001b[1;32mc:\\Users\\River\\miniconda3\\envs\\anivoice\\Lib\\site-packages\\pysrt\\srtitem.py:96\u001b[0m, in \u001b[0;36mSubRipItem.split_timestamps\u001b[1;34m(cls, line)\u001b[0m\n\u001b[0;32m     95\u001b[0m \u001b[38;5;28;01mif\u001b[39;00m \u001b[38;5;28mlen\u001b[39m(timestamps) \u001b[38;5;241m!=\u001b[39m \u001b[38;5;241m2\u001b[39m:\n\u001b[1;32m---> 96\u001b[0m     \u001b[38;5;28;01mraise\u001b[39;00m InvalidItem()\n\u001b[0;32m     97\u001b[0m start, end_and_position \u001b[38;5;241m=\u001b[39m timestamps\n",
      "\u001b[1;31mInvalidItem\u001b[0m: ﻿Comment: 0,0:23:22.12,0:23:24.12,Screen,,0,0,0,,Staff\r\nComment: 0,0:00:00.00,0:00:00.00,Default,,0,0,0,,Comment\r\nComment: 0,0:00:00.00,0:00:00.00,Default,,0,0,0,,Dialogue - JP\r\nComment: 0,0:00:00.00,0:00:00.00,Default,,0,0,0,,Dialogue - CN\r\nComment: 0,0:16:38.76,0:16:38.80,Default,,0,0,0,,Screen\r\nComment: 0,0:00:00.00,0:00:00.00,Default,,0,0,0,,OP\r\nComment: 0,0:00:00.00,0:00:00.00,Default,,0,0,0,,ED\r\nComment: 0,0:22:30.53,0:22:32.53,Meshi_EDCN,,0,0,0,,\r\nComment: 0,0:23:24.12,0:23:26.12,Default,,0,0,0,,\r\nDialogue: 0,0:01:22.26,0:01:26.89,Default,,0,0,0,,{\\bord0\\fs59\\fad(1478,0)\\fnXZSQYPR4\\c&HFFFFFF&}本字幕由喵萌奶茶屋制作 仅供交流试看之用 请勿用于商业用途\r\nDialogue: 0,0:01:22.26,0:01:26.89,Default,,0,0,0,,{\\an2\\bord0\\fs59\\fad(1478,0)\\fnXZSQYPR4\\c&HFFFFFF&}日字：Ronny  翻译·时轴：Nemeton  后期：MIR\r\nDialogue: 1,0:01:39.29,0:01:40.44,Dialogue_JP,,0,0,0,,寝すぎた\r\nDialogue: 1,0:01:48.09,0:01:51.00,Dialogue_JP,,0,0,0,,心音が　聞こえない\r\nDialogue: 1,0:01:51.89,0:01:53.64,Dialogue_JP,,0,0,0,,鎧の上からだからな\r\nDialogue: 1,0:01:55.17,0:01:57.36,Dialogue_JP,,0,0,0,,今しがたようやく寝ついたんだ\r\nDialogue: 1,0:01:59.07,0:02:01.62,Dialogue_JP,,0,0,0,,食中毒も収まってきたようだな\r\nDialogue: 1,0:02:02.89,0:02:05.25,Dialogue_JP,,0,0,0,,なんだ　人騒がせな\r\nDialogue: 1,0:02:05.67,0:02:07.38,Dialogue_JP,,0,0,0,,もう少し寝かせてやれ\r\nDialogue: 1,0:02:07.73,0:02:09.90,Dialogue_JP,,0,0,0,,一晩中うなされていたようだし\r\nDialogue: 1,0:02:11.08,0:02:12.95,Dialogue_JP,,0,0,0,,にしても　この迷宮\r\nDialogue: 1,0:02:13.35,0:02:16.90,Dialogue_JP,,0,0,0,,侵入者が倒す魔物の数も計算済みか\r\nDialogue: 1,0:02:17.77,0:02:21.29,Dialogue_JP,,0,0,0,,魔物を倒しても　生態系を正常に保つだけ\r\nDialogue: 1,0:02:21.89,0:02:25.44,Dialogue_JP,,0,0,0,,といって放っておけば　町に魔物があふれ出す\r\nDialogue: 1,0:02:26.07,0:02:30.00,Dialogue_JP,,0,0,0,,困った町は魔物討伐の依頼を冒険者に\r\nDialogue: 1,0:02:31.56,0:02:32.94,Dialogue_JP,,0,0,0,,よくできてる\r\nDialogue: 1,0:02:33.49,0:02:34.90,Dialogue_JP,,0,0,0,,なんの話だよ\r\nDialogue: 1,0:02:35.21,0:02:37.56,Dialogue_JP,,0,0,0,,もちろん迷宮作りの話だよ\r\nDialogue: 1,0:02:38.38,0:02:42.07,Dialogue_JP,,0,0,0,,私も昔　学校で勉強したことがあってさ\r\nDialogue: 1,0:02:42.70,0:02:44.44,Dialogue_JP,,0,0,0,,これが難しいんだ\r\nDialogue: 1,0:02:46.15,0:02:50.91,Dialogue_JP,,0,0,0,,ねえねえ　やっぱりあれって　研究科のマルシルさんだよね\r\nDialogue: 1,0:02:51.20,0:02:53.41,Dialogue_JP,,0,0,0,,学校始まって以来の才女\r\nDialogue: 1,0:02:55.04,0:02:57.69,Dialogue_JP,,0,0,0,,入学初日に先生の助手を務めたとか\r\nDialogue: 1,0:02:57.69,0:03:01.06,Dialogue_JP,,0,0,0,,すでに宮廷魔術師になることが決まってるとか\r\nDialogue: 1,0:03:01.83,0:03:02.81,Dialogue_JP,,0,0,0,,すごい\r\nDialogue: 1,0:03:04.50,0:03:07.76,Dialogue_JP,,0,0,0,,助手を任せてもらったのは入学５日目からだし\r\nDialogue: 1,0:03:08.25,0:03:10.99,Dialogue_JP,,0,0,0,,宮廷魔術師は　親がそうだったってだけ\r\nDialogue: 1,0:03:13.73,0:03:17.20,Dialogue_JP,,0,0,0,,今日は　先生に無理を言って授業にまぜてもらったの\r\nDialogue: 1,0:03:18.15,0:03:19.75,Dialogue_JP,,0,0,0,,皆さん　よろしくね\r\nDialogue: 1,0:03:21.16,0:03:22.73,Dialogue_JP,,0,0,0,,は…　はい\r\nDialogue: 1,0:03:24.19,0:03:27.59,Dialogue_JP,,0,0,0,,今日は精霊の繁殖実験を行います\r\nDialogue: 1,0:03:28.19,0:03:31.07,Dialogue_JP,,0,0,0,,一人一つ瓶を持って外に出て\r\nDialogue: 1,0:03:33.22,0:03:35.03,Dialogue_JP,,0,0,0,,穴を開けた木の板に\r\nDialogue: 1,0:03:36.10,0:03:37.68,Dialogue_JP,,0,0,0,,土を挟みながら\r\nDialogue: 1,0:03:38.32,0:03:39.81,Dialogue_JP,,0,0,0,,瓶の中に重ねる\r\nDialogue: 1,0:03:41.65,0:03:43.23,Dialogue_JP,,0,0,0,,結界を張って\r\nDialogue: 1,0:03:44.92,0:03:46.81,Dialogue_JP,,0,0,0,,中を魔力で満たし\r\nDialogue: 1,0:03:47.85,0:03:49.69,Dialogue_JP,,0,0,0,,精霊を放流する\r\nDialogue: 1,0:03:51.93,0:03:55.08,Dialogue_JP,,0,0,0,,微小な精霊は瓶の中の魔力だけで生きる\r\nDialogue: 1,0:03:56.09,0:03:58.94,Dialogue_JP,,0,0,0,,魔力が濃すぎても薄すぎても死んでしまう\r\nDialogue: 1,0:03:59.68,0:04:02.72,Dialogue_JP,,0,0,0,,召喚術の基本ともいえる精霊の飼育は\r\nDialogue: 1,0:04:03.03,0:04:06.72,Dialogue_JP,,0,0,0,,その構造が魔物の巣食う迷宮に似ることから\r\nDialogue: 1,0:04:06.92,0:04:08.54,Dialogue_JP,,0,0,0,,ダンジョニウムとも呼ばれる\r\nDialogue: 1,0:04:10.03,0:04:12.32,Dialogue_JP,,0,0,0,,終わった人は瓶を暗室へ\r\nDialogue: 1,0:04:12.49,0:04:14.84,Dialogue_JP,,0,0,0,,１週間後をお楽しみに\r\nDialogue: 1,0:04:17.26,0:04:19.60,Dialogue_JP,,0,0,0,,マルシルさんの結界きれい\r\nDialogue: 1,0:04:19.97,0:04:21.78,Dialogue_JP,,0,0,0,,本当に初めてなんですか\r\nDialogue: 1,0:04:22.47,0:04:24.95,Dialogue_JP,,0,0,0,,でも　どうして召喚術なんですか\r\nDialogue: 1,0:04:26.05,0:04:27.79,Dialogue_JP,,0,0,0,,専門外ですよね\r\nDialogue: 1,0:04:28.74,0:04:31.64,Dialogue_JP,,0,0,0,,安全なダンジョンの作り方を研究してるの\r\nDialogue: 1,0:04:32.61,0:04:34.34,Dialogue_JP,,0,0,0,,今は魔術の材料\r\nDialogue: 1,0:04:35.56,0:04:36.54,Dialogue_JP,,0,0,0,,例えば\r\nDialogue: 1,0:04:37.06,0:04:40.50,Dialogue_JP,,0,0,0,,マンドレイクなんかは　危険を冒して取りにいってるでしょう\r\nDialogue: 1,0:04:41.56,0:04:43.87,Dialogue_JP,,0,0,0,,だけど　無害な迷宮を作って\r\nDialogue: 1,0:04:43.87,0:04:46.63,Dialogue_JP,,0,0,0,,役に立つ魔物だけ育てることができれば\r\nDialogue: 1,0:04:47.00,0:04:49.65,Dialogue_JP,,0,0,0,,人々のために　貢献できると思うの\r\nDialogue: 1,0:04:51.72,0:04:52.91,Dialogue_JP,,0,0,0,,なんかすごい\r\nDialogue: 1,0:04:53.51,0:04:54.98,Dialogue_JP,,0,0,0,,マルシルさんの結界\r\nDialogue: 1,0:04:55.25,0:04:56.60,Dialogue_JP,,0,0,0,,見惚れる\r\nDialogue: 1,0:04:56.60,0:04:58.03,Dialogue_JP,,0,0,0,,私にも見せて\r\nDialogue: 1,0:04:58.03,0:04:59.16,Dialogue_JP,,0,0,0,,見せて見せて\r\nDialogue: 1,0:04:59.87,0:05:00.51,Dialogue_JP,,0,0,0,,危ない\r\nDialogue: 1,0:05:04.23,0:05:04.96,Dialogue_JP,,0,0,0,,大丈夫\r\nDialogue: 1,0:05:06.16,0:05:07.07,Dialogue_JP,,0,0,0,,ありがとう\r\nDialogue: 1,0:05:10.75,0:05:13.22,Dialogue_JP,,0,0,0,,土に不純物が混ざってるし\r\nDialogue: 1,0:05:13.66,0:05:16.55,Dialogue_JP,,0,0,0,,結界も隙間だらけで　魔力が薄くなってる\r\nDialogue: 1,0:05:17.12,0:05:19.83,Dialogue_JP,,0,0,0,,あれでは中の精霊は長く生きられない\r\nDialogue: 1,0:05:21.01,0:05:23.07,Dialogue_JP,,0,0,0,,お洋服　汚れませんでした\r\nDialogue: 1,0:05:24.17,0:05:26.44,Dialogue_JP,,0,0,0,,あの子　いつも泥だらけだし\r\nDialogue: 1,0:05:26.66,0:05:29.02,Dialogue_JP,,0,0,0,,授業もよくサボるから　落ちこぼれで\r\nDialogue: 1,0:05:35.09,0:05:37.81,Dialogue_JP,,0,0,0,,おのおの自分の瓶を持ち出したら\r\nDialogue: 1,0:05:38.06,0:05:41.39,Dialogue_JP,,0,0,0,,どの程度精霊が残っているか確認しましょう\r\nDialogue: 1,0:05:42.57,0:05:44.18,Dialogue_JP,,0,0,0,,全滅だ\r\nDialogue: 1,0:05:44.41,0:05:46.05,Dialogue_JP,,0,0,0,,なんとか生き残ってる\r\nDialogue: 1,0:05:46.24,0:05:47.76,Dialogue_JP,,0,0,0,,新種の精霊が\r\nDialogue: 1,0:05:47.98,0:05:48.87,Dialogue_JP,,0,0,0,,それカビ\r\nDialogue: 1,0:05:50.10,0:05:53.96,Dialogue_JP,,0,0,0,,精霊がたくさん残っていれば　火は大きく燃える\r\nDialogue: 1,0:05:56.72,0:05:59.25,Dialogue_JP,,0,0,0,,ほぼ状態を維持してるね\r\nDialogue: 1,0:05:59.51,0:06:01.21,Dialogue_JP,,0,0,0,,上出来上出来\r\nDialogue: 1,0:06:08.25,0:06:10.39,Dialogue_JP,,0,0,0,,わ…　私の瓶が\r\nDialogue: 1,0:06:10.98,0:06:13.04,Dialogue_JP,,0,0,0,,ずいぶん増えたわねえ\r\nDialogue: 1,0:06:13.53,0:06:14.72,Dialogue_JP,,0,0,0,,どうしたら\r\nDialogue: 1,0:06:15.26,0:06:17.03,Dialogue_JP,,0,0,0,,私が処理します\r\nDialogue: 1,0:06:18.22,0:06:20.89,Dialogue_JP,,0,0,0,,あなた　あの状態はいったいどうやって\r\nDialogue: 1,0:06:21.32,0:06:23.14,Dialogue_JP,,0,0,0,,ご…　ごめんなさい\r\nDialogue: 1,0:06:23.51,0:06:26.50,Dialogue_JP,,0,0,0,,いつも精霊がたくさんいる場所があって\r\nDialogue: 1,0:06:26.50,0:06:29.90,Dialogue_JP,,0,0,0,,そこを参考にしたら　うまくいくんじゃないかって\r\nDialogue: 1,0:06:30.58,0:06:32.31,Dialogue_JP,,0,0,0,,精霊がたくさん\r\nDialogue: 1,0:06:32.63,0:06:33.66,Dialogue_JP,,0,0,0,,そこはどこ\r\nDialogue: 1,0:06:34.41,0:06:36.09,Dialogue_JP,,0,0,0,,え…　えっと…\r\nDialogue: 1,0:06:36.09,0:06:38.82,Dialogue_JP,,0,0,0,,ダンジョンと同じくらいいるんじゃないかしら\r\nDialogue: 1,0:06:39.03,0:06:41.68,Dialogue_JP,,0,0,0,,いいサンプルになるわぁ\r\nDialogue: 1,0:06:44.91,0:06:46.83,Dialogue_JP,,0,0,0,,本物のダンジョンなの\r\nDialogue: 1,0:06:50.44,0:06:52.15,Dialogue_JP,,0,0,0,,ここから外に出るの\r\nDialogue: 1,0:06:53.72,0:06:55.51,Dialogue_JP,,0,0,0,,こんな抜け穴が\r\nDialogue: 1,0:07:18.51,0:07:21.15,Dialogue_JP,,0,0,0,,あなた　いつもこんなことしてるの\r\nDialogue: 1,0:07:25.12,0:07:26.74,Dialogue_JP,,0,0,0,,だから落ちこぼれ\r\nDialogue: 1,0:07:37.41,0:07:38.11,Dialogue_JP,,0,0,0,,バッタ\r\nDialogue: 1,0:07:39.09,0:07:40.32,Dialogue_JP,,0,0,0,,木苺\r\nDialogue: 1,0:07:43.00,0:07:45.22,Dialogue_JP,,0,0,0,,訳のわからないものを食べない\r\nDialogue: 1,0:07:45.36,0:07:48.19,Dialogue_JP,,0,0,0,,触らない　毒があったら危ないでしょう\r\nDialogue: 1,0:07:49.11,0:07:51.19,Dialogue_JP,,0,0,0,,訳わからなくないよ\r\nDialogue: 1,0:07:51.80,0:07:54.16,Dialogue_JP,,0,0,0,,バッタも木苺も毒ない\r\nDialogue: 1,0:08:00.37,0:08:03.87,Dialogue_JP,,0,0,0,,本当にダンジョン　初めて見た\r\nDialogue: 1,0:08:06.44,0:08:09.10,Dialogue_JP,,0,0,0,,魔力が停滞して　空気がよどんでる\r\nDialogue: 1,0:08:09.55,0:08:11.60,Dialogue_JP,,0,0,0,,自然に出来た洞窟ね\r\nDialogue: 1,0:08:13.46,0:08:14.49,Dialogue_JP,,0,0,0,,ちょっと危ない\r\nDialogue: 1,0:08:20.41,0:08:21.35,Dialogue_JP,,0,0,0,,大丈夫\r\nDialogue: 1,0:08:21.98,0:08:23.23,Dialogue_JP,,0,0,0,,よく来てるから\r\nDialogue: 1,0:08:23.65,0:08:25.87,Dialogue_JP,,0,0,0,,乾いた地面を歩けば安全\r\nDialogue: 1,0:08:45.99,0:08:47.31,Dialogue_JP,,0,0,0,,すごい\r\nDialogue: 1,0:08:48.11,0:08:51.61,Dialogue_JP,,0,0,0,,ダンジョンの中って　精霊だらけなのね\r\nDialogue: 1,0:08:54.21,0:08:57.42,Dialogue_JP,,0,0,0,,ここの土や水を瓶に含ませたの\r\nDialogue: 1,0:08:59.21,0:09:00.57,Dialogue_JP,,0,0,0,,なるほど\r\nDialogue: 1,0:09:01.15,0:09:03.14,Dialogue_JP,,0,0,0,,いつもここまで来て何してるの\r\nDialogue: 1,0:09:04.94,0:09:07.54,Dialogue_JP,,0,0,0,,手紙書いたり　本読んだり\r\nDialogue: 1,0:09:08.40,0:09:11.08,Dialogue_JP,,0,0,0,,完全にサボりの産物か\r\nDialogue: 1,0:09:14.66,0:09:17.27,Dialogue_JP,,0,0,0,,とにかく　危険はない場所みたい\r\nDialogue: 1,0:09:18.96,0:09:19.66,Dialogue_JP,,0,0,0,,待てよ\r\nDialogue: 1,0:09:20.36,0:09:23.23,Dialogue_JP,,0,0,0,,ここを耕して　マンドレイクを植えれば\r\nDialogue: 1,0:09:23.65,0:09:26.16,Dialogue_JP,,0,0,0,,安全にダンジョンの魔力を利用できる\r\nDialogue: 1,0:09:27.52,0:09:28.66,Dialogue_JP,,0,0,0,,うん　いける\r\nDialogue: 1,0:09:29.16,0:09:31.16,Dialogue_JP,,0,0,0,,いい具合に水辺も近いし\r\nDialogue: 1,0:09:35.31,0:09:36.74,Dialogue_JP,,0,0,0,,ス…　スライム\r\nDialogue: 1,0:09:37.42,0:09:39.81,Dialogue_JP,,0,0,0,,魔物なんか　全部焼き払って\r\nDialogue: 1,0:09:39.81,0:09:40.79,Dialogue_JP,,0,0,0,,だ…　だめ\r\nDialogue: 1,0:09:45.01,0:09:46.41,Dialogue_JP,,0,0,0,,何をするの\r\nDialogue: 1,0:09:48.85,0:09:51.87,Dialogue_JP,,0,0,0,,日の光がさしてる場所までは来ないから\r\nDialogue: 1,0:09:56.08,0:10:00.40,Dialogue_JP,,0,0,0,,スライムは　蝙蝠のふんを分解して魔力にしてるの\r\nDialogue: 1,0:10:02.11,0:10:03.87,Dialogue_JP,,0,0,0,,あの子たちがいなくなれば\r\nDialogue: 1,0:10:04.03,0:10:05.45,Dialogue_JP,,0,0,0,,ダンジョンが死んじゃう\r\nDialogue: 1,0:10:08.53,0:10:09.75,Dialogue_JP,,0,0,0,,蝙蝠…\r\nDialogue: 1,0:10:10.91,0:10:11.59,Dialogue_JP,,0,0,0,,はい\r\nDialogue: 1,0:10:24.63,0:10:25.62,Dialogue_JP,,0,0,0,,おいしい\r\nDialogue: 1,0:10:26.66,0:10:30.53,Dialogue_JP,,0,0,0,,これだけおいしいと　他の動物のエサにもなるんだろうな\r\nDialogue: 1,0:10:32.38,0:10:35.26,Dialogue_JP,,0,0,0,,ここの蝙蝠は何を食べてるのかな\r\nDialogue: 1,0:10:36.54,0:10:38.99,Dialogue_JP,,0,0,0,,この木苺がどんな時期に育つのか\r\nDialogue: 1,0:10:39.36,0:10:41.07,Dialogue_JP,,0,0,0,,どんな動物が食べるのか\r\nDialogue: 1,0:10:42.79,0:10:45.81,Dialogue_JP,,0,0,0,,そういうことを知らずに　ダンジョンは作れない\r\nDialogue: 1,0:10:50.11,0:10:52.71,Dialogue_JP,,0,0,0,,私　勉強不足だ\r\nDialogue: 1,0:10:57.23,0:10:58.84,Dialogue_JP,,0,0,0,,連れてきてくれてありがとう\r\nDialogue: 1,0:11:00.39,0:11:04.88,Dialogue_JP,,0,0,0,,私　魔術のことだけ勉強すれば　上達すると思ってたけど\r\nDialogue: 1,0:11:05.58,0:11:06.88,Dialogue_JP,,0,0,0,,それは違うみたい\r\nDialogue: 1,0:11:11.26,0:11:12.61,Dialogue_JP,,0,0,0,,ところであの\r\nDialogue: 1,0:11:13.10,0:11:14.31,Dialogue_JP,,0,0,0,,私　ファリン\r\nDialogue: 1,0:11:14.70,0:11:16.33,Dialogue_JP,,0,0,0,,お姉さんはいったい誰\r\nDialogue: 1,0:11:24.54,0:11:25.81,Dialogue_JP,,0,0,0,,私はマルシル\r\nDialogue: 1,0:11:26.71,0:11:29.50,Dialogue_JP,,0,0,0,,ファリン　あなたと友達になりたいの\r\nDialogue: 1,0:11:31.96,0:11:35.42,Dialogue_JP,,0,0,0,,学校始まって以来の才女はさすがにウソだろ\r\nDialogue: 1,0:11:35.79,0:11:37.16,Dialogue_JP,,0,0,0,,本当だから\r\nDialogue: 1,0:11:37.16,0:11:39.88,Dialogue_JP,,0,0,0,,学校じゃ優等生だったの　私は\r\nDialogue: 1,0:11:41.34,0:11:44.88,Dialogue_JP,,0,0,0,,とにかく　この迷宮はとんでもない場所なの\r\nDialogue: 1,0:11:45.74,0:11:50.49,Dialogue_JP,,0,0,0,,何重にも計算を重ねて　膨大な魔力を循環させ続けてる\r\nDialogue: 1,0:11:51.18,0:11:53.63,Dialogue_JP,,0,0,0,,狂乱の魔術師がもし存在するならば\r\nDialogue: 1,0:11:54.18,0:11:56.34,Dialogue_JP,,0,0,0,,間違いなくまともな存在ではない\r\nDialogue: 1,0:11:57.38,0:12:00.90,Dialogue_JP,,0,0,0,,センシも　ここで暮らすのはやめたほうが身のためだよ\r\nDialogue: 1,0:12:01.67,0:12:02.93,Dialogue_JP,,0,0,0,,余計な世話じゃ\r\nDialogue: 1,0:12:03.60,0:12:05.89,Dialogue_JP,,0,0,0,,そもそも　魔術嫌ってるけど\r\nDialogue: 1,0:12:06.03,0:12:08.46,Dialogue_JP,,0,0,0,,迷宮自体は魔術で出来てるものだから\r\nDialogue: 1,0:12:10.14,0:12:11.28,Dialogue_JP,,0,0,0,,聞こえんな\r\nDialogue: 1,0:12:12.58,0:12:13.38,Dialogue_JP,,0,0,0,,そうか\r\nDialogue: 1,0:12:13.96,0:12:15.94,Dialogue_JP,,0,0,0,,あれは君のことだったのか\r\nDialogue: 1,0:12:17.32,0:12:20.84,Dialogue_JP,,0,0,0,,魔術学校に入学したばかりの妹からの手紙は\r\nDialogue: 1,0:12:21.26,0:12:23.66,Dialogue_JP,,0,0,0,,いつも不安ばかりが綴られていたが\r\nDialogue: 1,0:12:24.74,0:12:27.61,Dialogue_JP,,0,0,0,,あるとき　友達ができたと報告があってからは\r\nDialogue: 1,0:12:27.94,0:12:29.54,Dialogue_JP,,0,0,0,,毎日が楽しそうだった\r\nDialogue: 1,0:12:32.67,0:12:34.31,Dialogue_JP,,0,0,0,,すごい人なんだと\r\nDialogue: 1,0:12:35.48,0:12:36.81,Dialogue_JP,,0,0,0,,いつも褒めていたよ\r\nDialogue: 1,0:12:42.56,0:12:44.43,Dialogue_JP,,0,0,0,,ライオスのことも褒めてたよ\r\nDialogue: 1,0:12:44.75,0:12:46.10,Dialogue_JP,,0,0,0,,尊敬してるって\r\nDialogue: 1,0:12:47.74,0:12:48.81,Dialogue_JP,,0,0,0,,そうか\r\nDialogue: 1,0:12:50.90,0:12:52.23,Dialogue_JP,,0,0,0,,何がすごいの\r\nDialogue: 1,0:12:52.39,0:12:54.92,Dialogue_JP,,0,0,0,,犬のモノマネがすごいうまい\r\nDialogue: 1,0:12:56.31,0:12:59.84,Dialogue_JP,,0,0,0,,まっ　こんな所でウダウダ言ってる場合じゃないか\r\nDialogue: 1,0:13:00.64,0:13:01.21,Dialogue_JP,,0,0,0,,よし\r\nDialogue: 1,0:13:01.90,0:13:03.90,Dialogue_JP,,0,0,0,,早くファリンを助けにいかなきゃ\r\nDialogue: 1,0:13:06.06,0:13:07.25,Dialogue_JP,,0,0,0,,ほらほら\r\nDialogue: 1,0:13:07.47,0:13:09.82,Dialogue_JP,,0,0,0,,目が覚めたんなら　早く起きて起きて\r\nDialogue: 1,0:13:12.05,0:13:13.29,Dialogue_JP,,0,0,0,,現在地がここ\r\nDialogue: 1,0:13:14.08,0:13:17.45,Dialogue_JP,,0,0,0,,オークから聞いた　炎竜の出現場所がここだ\r\nDialogue: 1,0:13:17.77,0:13:19.27,Dialogue_JP,,0,0,0,,２日もありゃ着くか\r\nDialogue: 1,0:13:20.21,0:13:22.35,Dialogue_JP,,0,0,0,,向こうもジッとはしていないだろうが\r\nDialogue: 1,0:13:22.53,0:13:25.43,Dialogue_JP,,0,0,0,,そうあちこち動き回る魔物でもないはずだ\r\nDialogue: 1,0:13:26.30,0:13:28.26,Dialogue_JP,,0,0,0,,野営もあと２回におさめたい\r\nDialogue: 1,0:13:29.01,0:13:30.43,Dialogue_JP,,0,0,0,,中間地点で１度\r\nDialogue: 1,0:13:30.77,0:13:32.72,Dialogue_JP,,0,0,0,,炎竜の手前で１度\r\nDialogue: 1,0:13:33.29,0:13:35.89,Dialogue_JP,,0,0,0,,ろうそくが消えたら　ライオスを叩き起こす\r\nDialogue: 1,0:13:36.58,0:13:37.86,Dialogue_JP,,0,0,0,,用事は済ましとけ\r\nDialogue: 1,0:13:38.07,0:13:39.89,Dialogue_JP,,0,0,0,,次の休憩は少し遠いぞ\r\nDialogue: 1,0:13:42.73,0:13:43.74,Dialogue_JP,,0,0,0,,体拭きたい\r\nDialogue: 1,0:13:45.78,0:13:46.54,Dialogue_JP,,0,0,0,,どこで\r\nDialogue: 1,0:13:46.83,0:13:48.38,Dialogue_JP,,0,0,0,,部屋の隅でやるから\r\nDialogue: 1,0:13:49.99,0:13:51.05,Dialogue_JP,,0,0,0,,手短に\r\nDialogue: 1,0:13:55.77,0:13:57.57,Dialogue_JP,,0,0,0,,じゃあ　外に出てるから\r\nDialogue: 1,0:13:58.59,0:13:59.95,Dialogue_JP,,0,0,0,,いいよ　そこにいて\r\nDialogue: 1,0:13:59.95,0:14:01.53,Dialogue_JP,,0,0,0,,服着たままやれるから\r\nDialogue: 1,0:14:03.42,0:14:04.16,Dialogue_JP,,0,0,0,,そう\r\nDialogue: 1,0:14:07.21,0:14:08.98,Dialogue_JP,,0,0,0,,気を遣わせるなあ\r\nDialogue: 1,0:14:09.89,0:14:12.86,Dialogue_JP,,0,0,0,,幻術の魔法とか勉強しとくべきだった\r\nDialogue: 1,0:14:13.52,0:14:15.32,Dialogue_JP,,0,0,0,,そういう問題じゃないよね\r\nDialogue: 1,0:14:15.94,0:14:18.60,Dialogue_JP,,0,0,0,,前は男女比半々で楽だったな\r\nDialogue: 1,0:14:19.77,0:14:21.50,Dialogue_JP,,0,0,0,,私らはここで抜ける\r\nDialogue: 1,0:14:22.07,0:14:23.16,Dialogue_JP,,0,0,0,,そんな\r\nDialogue: 1,0:14:23.46,0:14:24.96,Dialogue_JP,,0,0,0,,どうしても今じゃなきゃだめ\r\nDialogue: 1,0:14:25.54,0:14:28.02,Dialogue_JP,,0,0,0,,まだファリンの行方だってわかってないのに\r\nDialogue: 1,0:14:30.10,0:14:31.02,Dialogue_JP,,0,0,0,,悪いけど\r\nDialogue: 1,0:14:31.39,0:14:33.39,Dialogue_JP,,0,0,0,,こっちも生活がかかってるんでね\r\nDialogue: 1,0:14:35.02,0:14:37.42,Dialogue_JP,,0,0,0,,思い出したらムカムカしてきた\r\nDialogue: 1,0:14:37.77,0:14:39.86,Dialogue_JP,,0,0,0,,仲間だと思ってたのに\r\nDialogue: 1,0:14:44.74,0:14:46.03,Dialogue_JP,,0,0,0,,起きろ　ライオス\r\nDialogue: 1,0:14:46.40,0:14:47.65,Dialogue_JP,,0,0,0,,おい　起きろ\r\nDialogue: 1,0:14:47.87,0:14:48.94,Dialogue_JP,,0,0,0,,そろそろ行くぞ\r\nDialogue: 1,0:14:51.16,0:14:51.74,Dialogue_JP,,0,0,0,,よし\r\nDialogue: 1,0:14:53.17,0:14:54.98,Dialogue_JP,,0,0,0,,おっと　沸かしすぎた\r\nDialogue: 1,0:15:23.19,0:15:23.67,Dialogue_JP,,0,0,0,,ウ…\r\nDialogue: 1,0:15:24.02,0:15:25.55,Dialogue_JP,,0,0,0,,ウンディーネ\r\nDialogue: 1,0:15:30.26,0:15:31.16,Dialogue_JP,,0,0,0,,何事\r\nDialogue: 1,0:15:34.10,0:15:34.69,Dialogue_JP,,0,0,0,,杖\r\nDialogue: 1,0:15:42.65,0:15:44.14,Dialogue_JP,,0,0,0,,水上歩行が\r\nDialogue: 1,0:15:44.69,0:15:46.17,Dialogue_JP,,0,0,0,,水が動いとる\r\nDialogue: 1,0:15:46.32,0:15:47.30,Dialogue_JP,,0,0,0,,武器はだめだ\r\nDialogue: 1,0:15:47.30,0:15:48.34,Dialogue_JP,,0,0,0,,火がないと\r\nDialogue: 1,0:15:49.17,0:15:49.83,Dialogue_JP,,0,0,0,,火\r\nDialogue: 1,0:15:52.11,0:15:52.96,Dialogue_JP,,0,0,0,,おこすか\r\nDialogue: 1,0:15:53.51,0:15:55.93,Dialogue_JP,,0,0,0,,マルシル　一人でなんとかしろ\r\nDialogue: 1,0:15:56.47,0:15:58.15,Dialogue_JP,,0,0,0,,そう言われても\r\nDialogue: 1,0:15:59.41,0:16:00.59,Dialogue_JP,,0,0,0,,当たるといいけど\r\nDialogue: 1,0:16:20.86,0:16:23.47,Dialogue_JP,,0,0,0,,マルシル　なにボーッとしてんだ\r\nDialogue: 1,0:16:24.29,0:16:25.83,Dialogue_JP,,0,0,0,,水に近寄らないで\r\nDialogue: 1,0:16:26.14,0:16:28.34,Dialogue_JP,,0,0,0,,水上歩行が切れてるんだから\r\nDialogue: 1,0:16:35.83,0:16:36.51,Dialogue_JP,,0,0,0,,マルシル\r\nDialogue: 1,0:16:36.91,0:16:38.72,Dialogue_JP,,0,0,0,,マズい　立ち止まるな\r\nDialogue: 1,0:16:47.79,0:16:49.55,Dialogue_JP,,0,0,0,,この脚じゃ逃げきれない\r\nDialogue: 1,0:16:57.91,0:16:59.36,Dialogue_JP,,0,0,0,,どこに潜んでる\r\nDialogue: 1,0:17:10.59,0:17:12.83,Dialogue_JP,,0,0,0,,すっとろくて見てられない\r\nDialogue: 1,0:17:13.13,0:17:15.09,Dialogue_JP,,0,0,0,,待て　今火をおこして\r\nDialogue: 1,0:17:15.46,0:17:16.56,Dialogue_JP,,0,0,0,,間に合わない\r\nDialogue: 1,0:17:19.66,0:17:21.37,Dialogue_JP,,0,0,0,,もうあまり魔力がない\r\nDialogue: 1,0:17:22.05,0:17:24.15,Dialogue_JP,,0,0,0,,この一撃でなんとかしないと\r\nDialogue: 1,0:17:29.99,0:17:30.64,Dialogue_JP,,0,0,0,,どこ\r\nDialogue: 1,0:17:32.08,0:17:32.82,Dialogue_JP,,0,0,0,,どこ\r\nDialogue: 1,0:17:33.81,0:17:35.90,Dialogue_JP,,0,0,0,,何か　何か変化\r\nDialogue: 1,0:17:37.83,0:17:38.41,Dialogue_JP,,0,0,0,,いた\r\nDialogue: 1,0:17:39.68,0:17:41.03,Dialogue_JP,,0,0,0,,血で色が変わってる\r\nDialogue: 1,0:17:42.28,0:17:42.91,Dialogue_JP,,0,0,0,,速い\r\nDialogue: 1,0:17:51.17,0:17:51.88,Dialogue_JP,,0,0,0,,マルシル\r\nDialogue: 1,0:18:10.34,0:18:10.97,Dialogue_JP,,0,0,0,,おい\r\nDialogue: 1,0:18:12.58,0:18:13.46,Dialogue_JP,,0,0,0,,あれ…\r\nDialogue: 1,0:18:16.96,0:18:18.51,Dialogue_JP,,0,0,0,,ここはひとまず…\r\nDialogue: 1,0:18:21.31,0:18:23.99,Dialogue_JP,,0,0,0,,逃げろー\r\nDialogue: 1,0:18:30.02,0:18:31.34,Dialogue_JP,,0,0,0,,マルシル　具合は\r\nDialogue: 1,0:18:32.69,0:18:34.18,Dialogue_JP,,0,0,0,,止血はしたけど\r\nDialogue: 1,0:18:34.90,0:18:36.45,Dialogue_JP,,0,0,0,,血と魔力が足りない\r\nDialogue: 1,0:18:37.11,0:18:38.31,Dialogue_JP,,0,0,0,,完治は無理\r\nDialogue: 1,0:18:39.45,0:18:40.14,Dialogue_JP,,0,0,0,,ごめん\r\nDialogue: 1,0:18:40.69,0:18:41.47,Dialogue_JP,,0,0,0,,謝るな\r\nDialogue: 1,0:18:41.97,0:18:43.09,Dialogue_JP,,0,0,0,,少し横になってろ\r\nDialogue: 1,0:18:45.66,0:18:49.28,Dialogue_JP,,0,0,0,,もっと真面目にファリンから治療魔法を習っとけばよかった\r\nDialogue: 1,0:18:50.44,0:18:51.69,Dialogue_JP,,0,0,0,,なあ　ライオス\r\nDialogue: 1,0:18:53.62,0:18:55.32,Dialogue_JP,,0,0,0,,どうすんだ　これから\r\nDialogue: 1,0:18:55.62,0:18:58.71,Dialogue_JP,,0,0,0,,この先魔力切れの魔術師を連れてはいけないぞ\r\nDialogue: 1,0:18:59.39,0:19:02.31,Dialogue_JP,,0,0,0,,水上歩行がない以上　どこにも行けないが\r\nDialogue: 1,0:19:03.10,0:19:05.05,Dialogue_JP,,0,0,0,,他の冒険者が通るのを待とう\r\nDialogue: 1,0:19:06.15,0:19:08.24,Dialogue_JP,,0,0,0,,治療師か魔術師がいれば\r\nDialogue: 1,0:19:09.03,0:19:12.95,Dialogue_JP,,0,0,0,,そう都合よく他人の面倒を見る冒険者が通るかよ\r\nDialogue: 1,0:19:13.46,0:19:15.63,Dialogue_JP,,0,0,0,,取り引きできるようなもんねえんだぞ\r\nDialogue: 1,0:19:16.39,0:19:18.83,Dialogue_JP,,0,0,0,,強いて水棲馬の肉程度か\r\nDialogue: 1,0:19:19.01,0:19:21.13,Dialogue_JP,,0,0,0,,相手が餓死寸前だといいが\r\nDialogue: 1,0:19:21.64,0:19:24.32,Dialogue_JP,,0,0,0,,迷宮でこの栄養素は希少だ\r\nDialogue: 1,0:19:24.57,0:19:26.80,Dialogue_JP,,0,0,0,,栄養の話してねえんだ\r\nDialogue: 1,0:19:28.60,0:19:29.30,Dialogue_JP,,0,0,0,,肉\r\nDialogue: 1,0:19:30.17,0:19:32.46,Dialogue_JP,,0,0,0,,ひょっとして　その中にはレバーもあるのか\r\nDialogue: 1,0:19:32.99,0:19:33.89,Dialogue_JP,,0,0,0,,無論だ\r\nDialogue: 1,0:19:34.13,0:19:36.96,Dialogue_JP,,0,0,0,,レバーの鉄分は良質だからのう\r\nDialogue: 1,0:19:40.30,0:19:41.01,Dialogue_JP,,0,0,0,,鉄分\r\nDialogue: 1,0:19:42.03,0:19:42.84,Dialogue_JP,,0,0,0,,これは…\r\nDialogue: 1,0:19:44.68,0:19:46.35,Dialogue_JP,,0,0,0,,焼き肉だ\r\nDialogue: 1,0:19:52.99,0:19:54.06,Dialogue_JP,,0,0,0,,タテガミ\r\nDialogue: 1,0:19:54.41,0:19:55.19,Dialogue_JP,,0,0,0,,ネック\r\nDialogue: 1,0:19:55.55,0:19:56.15,Dialogue_JP,,0,0,0,,レバー\r\nDialogue: 1,0:19:56.84,0:19:57.51,Dialogue_JP,,0,0,0,,バラ\r\nDialogue: 1,0:19:57.90,0:19:58.84,Dialogue_JP,,0,0,0,,テール\r\nDialogue: 1,0:19:59.27,0:20:00.06,Dialogue_JP,,0,0,0,,モモ\r\nDialogue: 1,0:20:00.57,0:20:01.49,Dialogue_JP,,0,0,0,,ロース\r\nDialogue: 1,0:20:01.75,0:20:03.06,Dialogue_JP,,0,0,0,,野菜\r\nDialogue: 1,0:20:08.16,0:20:08.75,Dialogue_JP,,0,0,0,,マルシル\r\nDialogue: 1,0:20:09.90,0:20:10.66,Dialogue_JP,,0,0,0,,マルシル\r\nDialogue: 1,0:20:12.96,0:20:14.03,Dialogue_JP,,0,0,0,,起き上がれるか\r\nDialogue: 1,0:20:15.17,0:20:16.61,Dialogue_JP,,0,0,0,,いいものを用意したぞ\r\nDialogue: 1,0:20:33.55,0:20:34.33,Dialogue_JP,,0,0,0,,モモ\r\nDialogue: 1,0:20:35.25,0:20:36.03,Dialogue_JP,,0,0,0,,レバーは\r\nDialogue: 1,0:20:36.75,0:20:39.54,Dialogue_JP,,0,0,0,,内臓はしっかり火を通さんといかん\r\nDialogue: 1,0:20:43.41,0:20:44.67,Dialogue_JP,,0,0,0,,すまん　マルシル\r\nDialogue: 1,0:20:45.04,0:20:46.00,Dialogue_JP,,0,0,0,,先にいただく\r\nDialogue: 1,0:20:49.68,0:20:50.83,Dialogue_JP,,0,0,0,,クセがないな\r\nDialogue: 1,0:20:52.30,0:20:53.93,Dialogue_JP,,0,0,0,,ちょっと筋っぽいがうまい\r\nDialogue: 1,0:20:54.33,0:20:57.36,Dialogue_JP,,0,0,0,,馬の味に近いのか　海獣に近いのか\r\nDialogue: 1,0:20:58.03,0:20:59.58,Dialogue_JP,,0,0,0,,どちらも食べたことがないから\r\nDialogue: 1,0:20:59.58,0:21:01.22,Dialogue_JP,,0,0,0,,わからないのは残念だ\r\nDialogue: 1,0:21:02.56,0:21:03.17,Dialogue_JP,,0,0,0,,バラ\r\nDialogue: 1,0:21:04.22,0:21:05.63,Dialogue_JP,,0,0,0,,脂が甘い\r\nDialogue: 1,0:21:05.74,0:21:07.43,Dialogue_JP,,0,0,0,,柔らかいな\r\nDialogue: 1,0:21:07.79,0:21:10.11,Dialogue_JP,,0,0,0,,マルシル　レバーが焼けたぞ\r\nDialogue: 1,0:21:11.07,0:21:11.71,Dialogue_JP,,0,0,0,,ヒレ\r\nDialogue: 1,0:21:12.75,0:21:14.93,Dialogue_JP,,0,0,0,,口の中でとけるみたいだ\r\nDialogue: 1,0:21:15.24,0:21:16.44,Dialogue_JP,,0,0,0,,俺　これ好き\r\nDialogue: 1,0:21:17.28,0:21:18.32,Dialogue_JP,,0,0,0,,レバーだ　マルシル\r\nDialogue: 1,0:21:19.48,0:21:20.30,Dialogue_JP,,0,0,0,,テール\r\nDialogue: 1,0:21:21.31,0:21:22.14,Dialogue_JP,,0,0,0,,うまい\r\nDialogue: 1,0:21:22.56,0:21:24.53,Dialogue_JP,,0,0,0,,なんか不思議な味だな\r\nDialogue: 1,0:21:25.03,0:21:26.03,Dialogue_JP,,0,0,0,,ほれ　マルシル\r\nDialogue: 1,0:21:27.08,0:21:28.62,Dialogue_JP,,0,0,0,,レバーじゃ　マルシル\r\nDialogue: 1,0:21:29.39,0:21:30.70,Dialogue_JP,,0,0,0,,うまいか　マルシル\r\nDialogue: 1,0:21:30.94,0:21:32.26,Dialogue_JP,,0,0,0,,もっと食え　マルシル\r\nDialogue: 1,0:21:32.61,0:21:34.02,Dialogue_JP,,0,0,0,,どうだ　マルシル\r\nDialogue: 1,0:21:39.31,0:21:39.87,Dialogue_JP,,0,0,0,,ほ…\r\nDialogue: 1,0:21:41.14,0:21:41.50,Dialogue_JP,,0,0,0,,ほ？\r\nDialogue: 1,0:21:42.01,0:21:43.95,Dialogue_JP,,0,0,0,,他のところも食わせろ\r\nDialogue: 1,0:21:49.40,0:21:51.23,Dialogue_JP,,0,0,0,,少し元気が戻ったみたいだ\r\nDialogue: 1,0:21:51.58,0:21:52.91,Dialogue_JP,,0,0,0,,レバーすごい\r\nDialogue: 1,0:21:53.83,0:21:56.54,Dialogue_JP,,0,0,0,,さておき　魔力不足はどうする\r\nDialogue: 1,0:21:57.01,0:21:59.43,Dialogue_JP,,0,0,0,,魔力が回復する肉があればなあ\r\nDialogue: 1,0:21:59.67,0:22:02.15,Dialogue_JP,,0,0,0,,なんでバジリスクに魔力草詰めたよ\r\nDialogue: 1,0:22:02.36,0:22:04.37,Dialogue_JP,,0,0,0,,最善だったと思っている\r\nDialogue: 1,0:22:10.18,0:22:11.81,Dialogue_JP,,0,0,0,,なんか匂わないか\r\nDialogue: 1,0:22:12.74,0:22:13.62,Dialogue_JP,,0,0,0,,下からだ\r\nDialogue: 1,0:22:14.09,0:22:15.41,Dialogue_JP,,0,0,0,,なんの匂いだ\r\nDialogue: 1,0:22:16.07,0:22:17.75,Dialogue_JP,,0,0,0,,肉が焼ける匂い？\r\nDialogue: 1,0:22:18.56,0:22:20.33,Dialogue_JP,,0,0,0,,料理でもしてるみたいだ\r\nDialogue: 1,0:22:22.67,0:22:23.39,Dialogue_JP,,0,0,0,,ったく\r\nDialogue: 1,0:22:24.08,0:22:25.66,Dialogue_JP,,0,0,0,,どこのどいつだ\r\nDialogue: 1,0:22:26.62,0:22:28.89,Dialogue_JP,,0,0,0,,こんな所で肉焼くバカは\r\nDialogue: 2,0:01:39.29,0:01:40.44,Dialogue_CN,,0,0,0,,睡过头了\r\nDialogue: 2,0:01:48.09,0:01:51.00,Dialogue_CN,,0,0,0,,听不到心跳的声音\r\nDialogue: 2,0:01:51.89,0:01:53.64,Dialogue_CN,,0,0,0,,隔着铠甲确实听不到\r\nDialogue: 2,0:01:55.17,0:01:57.36,Dialogue_CN,,0,0,0,,他刚刚才好不容易睡着\r\nDialogue: 2,0:01:59.07,0:02:01.62,Dialogue_CN,,0,0,0,,食物中毒的症状也在消退\r\nDialogue: 2,0:02:02.89,0:02:05.25,Dialogue_CN,,0,0,0,,什么嘛 吓我一跳\r\nDialogue: 2,0:02:05.67,0:02:07.38,Dialogue_CN,,0,0,0,,让他再睡一会吧\r\nDialogue: 2,0:02:07.73,0:02:09.90,Dialogue_CN,,0,0,0,,他好像被折磨了一晚上\r\nDialogue: 2,0:02:11.08,0:02:12.95,Dialogue_CN,,0,0,0,,说来这座迷宫\r\nDialogue: 2,0:02:13.35,0:02:16.90,Dialogue_CN,,0,0,0,,都算好了有多少魔物被入侵者打败吗\r\nDialogue: 2,0:02:17.77,0:02:21.29,Dialogue_CN,,0,0,0,,我们在这打败魔物 生态平衡照旧维持\r\nDialogue: 2,0:02:21.89,0:02:25.44,Dialogue_CN,,0,0,0,,但要是什么都不做 魔物就会入侵到村里\r\nDialogue: 2,0:02:26.07,0:02:30.00,Dialogue_CN,,0,0,0,,遭受危害的村子则会请求冒险者出征\r\nDialogue: 2,0:02:31.56,0:02:32.94,Dialogue_CN,,0,0,0,,设计得真好\r\nDialogue: 2,0:02:33.49,0:02:34.90,Dialogue_CN,,0,0,0,,你在说什么\r\nDialogue: 2,0:02:35.21,0:02:37.56,Dialogue_CN,,0,0,0,,在说迷宫的设计啊\r\nDialogue: 2,0:02:38.38,0:02:42.07,Dialogue_CN,,0,0,0,,我以前在学校学过这方面的东西\r\nDialogue: 2,0:02:42.70,0:02:44.44,Dialogue_CN,,0,0,0,,别提有多难了\r\nDialogue: 2,0:02:46.15,0:02:50.91,Dialogue_CN,,0,0,0,,快看 那边那位就是研究科的玛露希尔吧\r\nDialogue: 2,0:02:51.20,0:02:53.41,Dialogue_CN,,0,0,0,,学校建立以来的第一才女\r\nDialogue: 2,0:02:55.04,0:02:57.69,Dialogue_CN,,0,0,0,,入学第一天就在给老师当助手\r\nDialogue: 2,0:02:57.69,0:03:01.06,Dialogue_CN,,0,0,0,,而且好像已经确定会成为宫廷魔法师\r\nDialogue: 2,0:03:01.83,0:03:02.81,Dialogue_CN,,0,0,0,,好厉害\r\nDialogue: 2,0:03:04.50,0:03:07.76,Dialogue_CN,,0,0,0,,老师安排我做助手是入学后第五天了\r\nDialogue: 2,0:03:08.25,0:03:10.99,Dialogue_CN,,0,0,0,,宫廷魔法师的话 只是父母以前当过而已\r\nDialogue: 2,0:03:13.73,0:03:17.20,Dialogue_CN,,0,0,0,,今天是我恳求老师让我一起来这上课的\r\nDialogue: 2,0:03:18.15,0:03:19.75,Dialogue_CN,,0,0,0,,请大家多指教\r\nDialogue: 2,0:03:21.16,0:03:22.73,Dialogue_CN,,0,0,0,,好… 好\r\nDialogue: 2,0:03:24.19,0:03:27.59,Dialogue_CN,,0,0,0,,今天进行自然精灵的繁殖实验\r\nDialogue: 2,0:03:28.19,0:03:31.07,Dialogue_CN,,0,0,0,,一人拿一个瓶子去外面\r\nDialogue: 2,0:03:33.22,0:03:35.03,Dialogue_CN,,0,0,0,,用开了孔的木板\r\nDialogue: 2,0:03:36.10,0:03:37.68,Dialogue_CN,,0,0,0,,隔一层叠一层土\r\nDialogue: 2,0:03:38.32,0:03:39.81,Dialogue_CN,,0,0,0,,在瓶子当中堆好\r\nDialogue: 2,0:03:41.65,0:03:43.23,Dialogue_CN,,0,0,0,,张开结界\r\nDialogue: 2,0:03:44.92,0:03:46.81,Dialogue_CN,,0,0,0,,向其中注入魔力\r\nDialogue: 2,0:03:47.85,0:03:49.69,Dialogue_CN,,0,0,0,,投放精灵\r\nDialogue: 2,0:03:51.93,0:03:55.08,Dialogue_CN,,0,0,0,,细小的精灵仅靠瓶子之中的魔力存活\r\nDialogue: 2,0:03:56.09,0:03:58.94,Dialogue_CN,,0,0,0,,魔力浓度过高或是过低都会导致死亡\r\nDialogue: 2,0:03:59.68,0:04:02.72,Dialogue_CN,,0,0,0,,饲养精灵可以说是召唤魔法的基础\r\nDialogue: 2,0:04:03.03,0:04:06.72,Dialogue_CN,,0,0,0,,而这构造与魔物盘踞的迷宫有些类似\r\nDialogue: 2,0:04:06.92,0:04:08.54,Dialogue_CN,,0,0,0,,因此也被称为迷宫瓶\r\nDialogue: 2,0:04:10.03,0:04:12.32,Dialogue_CN,,0,0,0,,把做好的瓶子放到暗室\r\nDialogue: 2,0:04:12.49,0:04:14.84,Dialogue_CN,,0,0,0,,一周以后观察成果\r\nDialogue: 2,0:04:17.26,0:04:19.60,Dialogue_CN,,0,0,0,,玛露希尔的结界好漂亮\r\nDialogue: 2,0:04:19.97,0:04:21.78,Dialogue_CN,,0,0,0,,真的是第一次制作吗\r\nDialogue: 2,0:04:22.47,0:04:24.95,Dialogue_CN,,0,0,0,,不过为什么要学召唤魔法呢\r\nDialogue: 2,0:04:26.05,0:04:27.79,Dialogue_CN,,0,0,0,,这不是你的专业吧\r\nDialogue: 2,0:04:28.74,0:04:31.64,Dialogue_CN,,0,0,0,,我在研究怎样制作安全的迷宫\r\nDialogue: 2,0:04:32.61,0:04:34.34,Dialogue_CN,,0,0,0,,现在专攻魔法的材料\r\nDialogue: 2,0:04:35.56,0:04:36.54,Dialogue_CN,,0,0,0,,比如说\r\nDialogue: 2,0:04:37.06,0:04:40.50,Dialogue_CN,,0,0,0,,想要去采摘曼德拉草 需要冒一定的风险没错吧\r\nDialogue: 2,0:04:41.56,0:04:43.87,Dialogue_CN,,0,0,0,,但是制作出无害的迷宫\r\nDialogue: 2,0:04:43.87,0:04:46.63,Dialogue_CN,,0,0,0,,专门培养对人们有用的魔物\r\nDialogue: 2,0:04:47.00,0:04:49.65,Dialogue_CN,,0,0,0,,这样就能为大家做出贡献\r\nDialogue: 2,0:04:51.72,0:04:52.91,Dialogue_CN,,0,0,0,,感觉好厉害\r\nDialogue: 2,0:04:53.51,0:04:54.98,Dialogue_CN,,0,0,0,,玛露希尔的结界\r\nDialogue: 2,0:04:55.25,0:04:56.60,Dialogue_CN,,0,0,0,,要看入迷了\r\nDialogue: 2,0:04:56.60,0:04:58.03,Dialogue_CN,,0,0,0,,让我也看看\r\nDialogue: 2,0:04:58.03,0:04:59.16,Dialogue_CN,,0,0,0,,我要看我要看\r\nDialogue: 2,0:04:59.87,0:05:00.51,Dialogue_CN,,0,0,0,,小心\r\nDialogue: 2,0:05:04.23,0:05:04.96,Dialogue_CN,,0,0,0,,没事吧\r\nDialogue: 2,0:05:06.16,0:05:07.07,Dialogue_CN,,0,0,0,,谢谢你\r\nDialogue: 2,0:05:10.75,0:05:13.22,Dialogue_CN,,0,0,0,,土里还混有杂物\r\nDialogue: 2,0:05:13.66,0:05:16.55,Dialogue_CN,,0,0,0,,结界也全是缝隙 魔力都在消散\r\nDialogue: 2,0:05:17.12,0:05:19.83,Dialogue_CN,,0,0,0,,这种状态 里面的精灵活不了多久\r\nDialogue: 2,0:05:21.01,0:05:23.07,Dialogue_CN,,0,0,0,,你的衣服有没有弄脏\r\nDialogue: 2,0:05:24.17,0:05:26.44,Dialogue_CN,,0,0,0,,那个人经常身上都是泥\r\nDialogue: 2,0:05:26.66,0:05:29.02,Dialogue_CN,,0,0,0,,她还经常旷课 是个落后生\r\nDialogue: 2,0:05:35.09,0:05:37.81,Dialogue_CN,,0,0,0,,大家都取出自己的瓶子吧\r\nDialogue: 2,0:05:38.06,0:05:41.39,Dialogue_CN,,0,0,0,,检查一下还有多少精灵存活下来吧\r\nDialogue: 2,0:05:42.57,0:05:44.18,Dialogue_CN,,0,0,0,,都死了\r\nDialogue: 2,0:05:44.41,0:05:46.05,Dialogue_CN,,0,0,0,,好像是活下来了\r\nDialogue: 2,0:05:46.24,0:05:47.76,Dialogue_CN,,0,0,0,,新品种精灵\r\nDialogue: 2,0:05:47.98,0:05:48.87,Dialogue_CN,,0,0,0,,那是发霉了\r\nDialogue: 2,0:05:50.10,0:05:53.96,Dialogue_CN,,0,0,0,,要是有大量的精灵活下来 火会烧得很旺\r\nDialogue: 2,0:05:56.72,0:05:59.25,Dialogue_CN,,0,0,0,,基本保持了初始状态\r\nDialogue: 2,0:05:59.51,0:06:01.21,Dialogue_CN,,0,0,0,,很不错很不错\r\nDialogue: 2,0:06:08.25,0:06:10.39,Dialogue_CN,,0,0,0,,我… 我的瓶子\r\nDialogue: 2,0:06:10.98,0:06:13.04,Dialogue_CN,,0,0,0,,这是繁殖了不少呢\r\nDialogue: 2,0:06:13.53,0:06:14.72,Dialogue_CN,,0,0,0,,这可怎么办\r\nDialogue: 2,0:06:15.26,0:06:17.03,Dialogue_CN,,0,0,0,,我来处理一下\r\nDialogue: 2,0:06:18.22,0:06:20.89,Dialogue_CN,,0,0,0,,你到底是怎样做到这个程度的\r\nDialogue: 2,0:06:21.32,0:06:23.14,Dialogue_CN,,0,0,0,,对… 对不起\r\nDialogue: 2,0:06:23.51,0:06:26.50,Dialogue_CN,,0,0,0,,我知道一个总是有许多精灵的地方\r\nDialogue: 2,0:06:26.50,0:06:29.90,Dialogue_CN,,0,0,0,,就想着参考一下那环境 觉得效果应该不错\r\nDialogue: 2,0:06:30.58,0:06:32.31,Dialogue_CN,,0,0,0,,有许多精灵…\r\nDialogue: 2,0:06:32.63,0:06:33.66,Dialogue_CN,,0,0,0,,那地方在哪里\r\nDialogue: 2,0:06:34.41,0:06:36.09,Dialogue_CN,,0,0,0,,那… 那什么…\r\nDialogue: 2,0:06:36.09,0:06:38.82,Dialogue_CN,,0,0,0,,这和迷宫中的数量差不多了\r\nDialogue: 2,0:06:39.03,0:06:41.68,Dialogue_CN,,0,0,0,,能当个不错的样本\r\nDialogue: 2,0:06:44.91,0:06:46.83,Dialogue_CN,,0,0,0,,是真正的迷宫\r\nDialogue: 2,0:06:50.44,0:06:52.15,Dialogue_CN,,0,0,0,,从这里到外面去\r\nDialogue: 2,0:06:53.72,0:06:55.51,Dialogue_CN,,0,0,0,,还有这种暗道\r\nDialogue: 2,0:07:18.51,0:07:21.15,Dialogue_CN,,0,0,0,,你平日就经常做这种事吗\r\nDialogue: 2,0:07:25.12,0:07:26.74,Dialogue_CN,,0,0,0,,所以被人说落后生\r\nDialogue: 2,0:07:37.41,0:07:38.11,Dialogue_CN,,0,0,0,,蚂蚱\r\nDialogue: 2,0:07:39.09,0:07:40.32,Dialogue_CN,,0,0,0,,木莓\r\nDialogue: 2,0:07:43.00,0:07:45.22,Dialogue_CN,,0,0,0,,别随便吃乱七八糟的东西\r\nDialogue: 2,0:07:45.36,0:07:48.19,Dialogue_CN,,0,0,0,,也别乱碰 万一有毒怎么办啊\r\nDialogue: 2,0:07:49.11,0:07:51.19,Dialogue_CN,,0,0,0,,不是乱七八糟的东西\r\nDialogue: 2,0:07:51.80,0:07:54.16,Dialogue_CN,,0,0,0,,蚂蚱和木莓都没有毒\r\nDialogue: 2,0:08:00.37,0:08:03.87,Dialogue_CN,,0,0,0,,真的是迷宫 第一次见\r\nDialogue: 2,0:08:06.44,0:08:09.10,Dialogue_CN,,0,0,0,,魔力停滞在这 空气都难流通\r\nDialogue: 2,0:08:09.55,0:08:11.60,Dialogue_CN,,0,0,0,,自然产生的洞窟吗\r\nDialogue: 2,0:08:13.46,0:08:14.49,Dialogue_CN,,0,0,0,,小心危险啊\r\nDialogue: 2,0:08:20.41,0:08:21.35,Dialogue_CN,,0,0,0,,没事的\r\nDialogue: 2,0:08:21.98,0:08:23.23,Dialogue_CN,,0,0,0,,我经常过来\r\nDialogue: 2,0:08:23.65,0:08:25.87,Dialogue_CN,,0,0,0,,脚踩干燥的地面就好\r\nDialogue: 2,0:08:45.99,0:08:47.31,Dialogue_CN,,0,0,0,,好厉害\r\nDialogue: 2,0:08:48.11,0:08:51.61,Dialogue_CN,,0,0,0,,原来迷宫当中到处都是精灵\r\nDialogue: 2,0:08:54.21,0:08:57.42,Dialogue_CN,,0,0,0,,瓶子里放了这里的土和水\r\nDialogue: 2,0:08:59.21,0:09:00.57,Dialogue_CN,,0,0,0,,原来如此\r\nDialogue: 2,0:09:01.15,0:09:03.14,Dialogue_CN,,0,0,0,,你平常来这里做什么呢\r\nDialogue: 2,0:09:04.94,0:09:07.54,Dialogue_CN,,0,0,0,,写写信 读书什么的\r\nDialogue: 2,0:09:08.40,0:09:11.08,Dialogue_CN,,0,0,0,,旷课是真旷了不少\r\nDialogue: 2,0:09:14.66,0:09:17.27,Dialogue_CN,,0,0,0,,不过这里看起来是没什么危险\r\nDialogue: 2,0:09:18.96,0:09:19.66,Dialogue_CN,,0,0,0,,等一下\r\nDialogue: 2,0:09:20.36,0:09:23.23,Dialogue_CN,,0,0,0,,在这里耕作 种植曼德拉草的话\r\nDialogue: 2,0:09:23.65,0:09:26.16,Dialogue_CN,,0,0,0,,就能够安全利用迷宫里的魔力\r\nDialogue: 2,0:09:27.52,0:09:28.66,Dialogue_CN,,0,0,0,,嗯 应该可以\r\nDialogue: 2,0:09:29.16,0:09:31.16,Dialogue_CN,,0,0,0,,还有现成的水源\r\nDialogue: 2,0:09:35.31,0:09:36.74,Dialogue_CN,,0,0,0,,史… 史莱姆\r\nDialogue: 2,0:09:37.42,0:09:39.81,Dialogue_CN,,0,0,0,,魔物就该全部烧死\r\nDialogue: 2,0:09:39.81,0:09:40.79,Dialogue_CN,,0,0,0,,不… 不要\r\nDialogue: 2,0:09:45.01,0:09:46.41,Dialogue_CN,,0,0,0,,你做什么啊\r\nDialogue: 2,0:09:48.85,0:09:51.87,Dialogue_CN,,0,0,0,,它不会到有阳光照射的地方\r\nDialogue: 2,0:09:56.08,0:10:00.40,Dialogue_CN,,0,0,0,,史莱姆依靠分解蝙蝠的粪便产生魔力\r\nDialogue: 2,0:10:02.11,0:10:03.87,Dialogue_CN,,0,0,0,,要是没有了他们\r\nDialogue: 2,0:10:04.03,0:10:05.45,Dialogue_CN,,0,0,0,,迷宫会死掉的\r\nDialogue: 2,0:10:08.53,0:10:09.75,Dialogue_CN,,0,0,0,,蝙蝠…\r\nDialogue: 2,0:10:10.91,0:10:11.59,Dialogue_CN,,0,0,0,,给你\r\nDialogue: 2,0:10:24.63,0:10:25.62,Dialogue_CN,,0,0,0,,真好吃\r\nDialogue: 2,0:10:26.66,0:10:30.53,Dialogue_CN,,0,0,0,,要是有这么好吃 别的动物也会把木苺当食物吧\r\nDialogue: 2,0:10:32.38,0:10:35.26,Dialogue_CN,,0,0,0,,这里的蝙蝠以什么为食呢\r\nDialogue: 2,0:10:36.54,0:10:38.99,Dialogue_CN,,0,0,0,,这木苺一般什么时候成熟\r\nDialogue: 2,0:10:39.36,0:10:41.07,Dialogue_CN,,0,0,0,,什么动物以木苺为食\r\nDialogue: 2,0:10:42.79,0:10:45.81,Dialogue_CN,,0,0,0,,要是不知道这些 就无法制作迷宫\r\nDialogue: 2,0:10:50.11,0:10:52.71,Dialogue_CN,,0,0,0,,我还有许多要学\r\nDialogue: 2,0:10:57.23,0:10:58.84,Dialogue_CN,,0,0,0,,谢谢你带我来到这里\r\nDialogue: 2,0:11:00.39,0:11:04.88,Dialogue_CN,,0,0,0,,我本以为光是学习魔法 就能够不断提高\r\nDialogue: 2,0:11:05.58,0:11:06.88,Dialogue_CN,,0,0,0,,看来我想错了\r\nDialogue: 2,0:11:11.26,0:11:12.61,Dialogue_CN,,0,0,0,,还没有自我介绍\r\nDialogue: 2,0:11:13.10,0:11:14.31,Dialogue_CN,,0,0,0,,我叫法琳\r\nDialogue: 2,0:11:14.70,0:11:16.33,Dialogue_CN,,0,0,0,,姐姐你是谁呢\r\nDialogue: 2,0:11:24.54,0:11:25.81,Dialogue_CN,,0,0,0,,我叫玛露希尔\r\nDialogue: 2,0:11:26.71,0:11:29.50,Dialogue_CN,,0,0,0,,法琳 我想和你成为朋友\r\nDialogue: 2,0:11:31.96,0:11:35.42,Dialogue_CN,,0,0,0,,学校建立以来的第一才女是开玩笑吧\r\nDialogue: 2,0:11:35.79,0:11:37.16,Dialogue_CN,,0,0,0,,我认真的\r\nDialogue: 2,0:11:37.16,0:11:39.88,Dialogue_CN,,0,0,0,,在学校里我可是优等生\r\nDialogue: 2,0:11:41.34,0:11:44.88,Dialogue_CN,,0,0,0,,总之 这迷宫是真的很了不起\r\nDialogue: 2,0:11:45.74,0:11:50.49,Dialogue_CN,,0,0,0,,经过复杂的计算 让庞大的魔力不断循环\r\nDialogue: 2,0:11:51.18,0:11:53.63,Dialogue_CN,,0,0,0,,如果疯狂的魔法师真实存在\r\nDialogue: 2,0:11:54.18,0:11:56.34,Dialogue_CN,,0,0,0,,那绝不会是个正经的家伙\r\nDialogue: 2,0:11:57.38,0:12:00.90,Dialogue_CN,,0,0,0,,先西也是 安全起见还是别在这里生活了\r\nDialogue: 2,0:12:01.67,0:12:02.93,Dialogue_CN,,0,0,0,,不需要你关心\r\nDialogue: 2,0:12:03.60,0:12:05.89,Dialogue_CN,,0,0,0,,而且你不是讨厌魔法吗\r\nDialogue: 2,0:12:06.03,0:12:08.46,Dialogue_CN,,0,0,0,,可迷宫本身就是由魔法创造的\r\nDialogue: 2,0:12:10.14,0:12:11.28,Dialogue_CN,,0,0,0,,我听不见\r\nDialogue: 2,0:12:12.58,0:12:13.38,Dialogue_CN,,0,0,0,,这样吗\r\nDialogue: 2,0:12:13.96,0:12:15.94,Dialogue_CN,,0,0,0,,原来那是在说你吗\r\nDialogue: 2,0:12:17.32,0:12:20.84,Dialogue_CN,,0,0,0,,妹妹刚进入魔法学校时给我写的信\r\nDialogue: 2,0:12:21.26,0:12:23.66,Dialogue_CN,,0,0,0,,总是诉说着内心的不安\r\nDialogue: 2,0:12:24.74,0:12:27.61,Dialogue_CN,,0,0,0,,自从有一天 她说自己交到了朋友\r\nDialogue: 2,0:12:27.94,0:12:29.54,Dialogue_CN,,0,0,0,,往后每天都开心了起来\r\nDialogue: 2,0:12:32.67,0:12:34.31,Dialogue_CN,,0,0,0,,说是很厉害的人\r\nDialogue: 2,0:12:35.48,0:12:36.81,Dialogue_CN,,0,0,0,,一直在夸你呢\r\nDialogue: 2,0:12:42.56,0:12:44.43,Dialogue_CN,,0,0,0,,她也夸过莱欧斯呢\r\nDialogue: 2,0:12:44.75,0:12:46.10,Dialogue_CN,,0,0,0,,说自己很尊敬你\r\nDialogue: 2,0:12:47.74,0:12:48.81,Dialogue_CN,,0,0,0,,这样吗\r\nDialogue: 2,0:12:50.90,0:12:52.23,Dialogue_CN,,0,0,0,,哪里厉害呢\r\nDialogue: 2,0:12:52.39,0:12:54.92,Dialogue_CN,,0,0,0,,模仿狗的时候像极了\r\nDialogue: 2,0:12:56.31,0:12:59.84,Dialogue_CN,,0,0,0,,算了 现在也不是该絮絮叨叨的时候\r\nDialogue: 2,0:13:00.64,0:13:01.21,Dialogue_CN,,0,0,0,,好\r\nDialogue: 2,0:13:01.90,0:13:03.90,Dialogue_CN,,0,0,0,,该抓紧时间去救法琳了\r\nDialogue: 2,0:13:06.06,0:13:07.25,Dialogue_CN,,0,0,0,,快快\r\nDialogue: 2,0:13:07.47,0:13:09.82,Dialogue_CN,,0,0,0,,既然醒来了 就别磨蹭赶快起床\r\nDialogue: 2,0:13:12.05,0:13:13.29,Dialogue_CN,,0,0,0,,我们在这里\r\nDialogue: 2,0:13:14.08,0:13:17.45,Dialogue_CN,,0,0,0,,根据半兽人所说 红龙是在这里出现的\r\nDialogue: 2,0:13:17.77,0:13:19.27,Dialogue_CN,,0,0,0,,两天就能赶到吧\r\nDialogue: 2,0:13:20.21,0:13:22.35,Dialogue_CN,,0,0,0,,估计对方不会一直待在原地\r\nDialogue: 2,0:13:22.53,0:13:25.43,Dialogue_CN,,0,0,0,,但也不是那种大范围移动的魔物\r\nDialogue: 2,0:13:26.30,0:13:28.26,Dialogue_CN,,0,0,0,,尽量把野营控制在两次之内\r\nDialogue: 2,0:13:29.01,0:13:30.43,Dialogue_CN,,0,0,0,,半路上一次\r\nDialogue: 2,0:13:30.77,0:13:32.72,Dialogue_CN,,0,0,0,,遭遇之前一次\r\nDialogue: 2,0:13:33.29,0:13:35.89,Dialogue_CN,,0,0,0,,等蜡烛燃尽 就把莱欧斯喊起来\r\nDialogue: 2,0:13:36.58,0:13:37.86,Dialogue_CN,,0,0,0,,有事尽早解决\r\nDialogue: 2,0:13:38.07,0:13:39.89,Dialogue_CN,,0,0,0,,距下次休息还有很远\r\nDialogue: 2,0:13:42.73,0:13:43.74,Dialogue_CN,,0,0,0,,想擦拭身体\r\nDialogue: 2,0:13:45.78,0:13:46.54,Dialogue_CN,,0,0,0,,在哪擦\r\nDialogue: 2,0:13:46.83,0:13:48.38,Dialogue_CN,,0,0,0,,在房间的角落就行\r\nDialogue: 2,0:13:49.99,0:13:51.05,Dialogue_CN,,0,0,0,,那你快点\r\nDialogue: 2,0:13:55.77,0:13:57.57,Dialogue_CN,,0,0,0,,那我们先出去了\r\nDialogue: 2,0:13:58.59,0:13:59.95,Dialogue_CN,,0,0,0,,没事 待在那边就好\r\nDialogue: 2,0:13:59.95,0:14:01.53,Dialogue_CN,,0,0,0,,我可以穿着衣服擦\r\nDialogue: 2,0:14:03.42,0:14:04.16,Dialogue_CN,,0,0,0,,这样吗\r\nDialogue: 2,0:14:07.21,0:14:08.98,Dialogue_CN,,0,0,0,,给他们添顾虑了\r\nDialogue: 2,0:14:09.89,0:14:12.86,Dialogue_CN,,0,0,0,,我是不是该学习一下幻术呢\r\nDialogue: 2,0:14:13.52,0:14:15.32,Dialogue_CN,,0,0,0,,不是这方面的问题吧\r\nDialogue: 2,0:14:15.94,0:14:18.60,Dialogue_CN,,0,0,0,,之前男女各半 多轻松\r\nDialogue: 2,0:14:19.77,0:14:21.50,Dialogue_CN,,0,0,0,,我们决定离开队伍\r\nDialogue: 2,0:14:22.07,0:14:23.16,Dialogue_CN,,0,0,0,,怎么这样\r\nDialogue: 2,0:14:23.46,0:14:24.96,Dialogue_CN,,0,0,0,,现在就必须要走吗\r\nDialogue: 2,0:14:25.54,0:14:28.02,Dialogue_CN,,0,0,0,,我们还不知道法琳去哪里了呢\r\nDialogue: 2,0:14:30.10,0:14:31.02,Dialogue_CN,,0,0,0,,不好意思\r\nDialogue: 2,0:14:31.39,0:14:33.39,Dialogue_CN,,0,0,0,,我们也需要维持自己的生活\r\nDialogue: 2,0:14:35.02,0:14:37.42,Dialogue_CN,,0,0,0,,回想起来 感觉来气了\r\nDialogue: 2,0:14:37.77,0:14:39.86,Dialogue_CN,,0,0,0,,亏我还把他们当同伴\r\nDialogue: 2,0:14:44.74,0:14:46.03,Dialogue_CN,,0,0,0,,起床了 莱欧斯\r\nDialogue: 2,0:14:46.40,0:14:47.65,Dialogue_CN,,0,0,0,,喂 快醒醒\r\nDialogue: 2,0:14:47.87,0:14:48.94,Dialogue_CN,,0,0,0,,就该出发了\r\nDialogue: 2,0:14:51.16,0:14:51.74,Dialogue_CN,,0,0,0,,好\r\nDialogue: 2,0:14:53.17,0:14:54.98,Dialogue_CN,,0,0,0,,呀 水烧多了\r\nDialogue: 2,0:15:23.19,0:15:23.67,Dialogue_CN,,0,0,0,,温…\r\nDialogue: 2,0:15:24.02,0:15:25.55,Dialogue_CN,,0,0,0,,温蒂妮\r\nDialogue: 2,0:15:30.26,0:15:31.16,Dialogue_CN,,0,0,0,,怎么了\r\nDialogue: 2,0:15:34.10,0:15:34.69,Dialogue_CN,,0,0,0,,法杖\r\nDialogue: 2,0:15:42.65,0:15:44.14,Dialogue_CN,,0,0,0,,水上行走…\r\nDialogue: 2,0:15:44.69,0:15:46.17,Dialogue_CN,,0,0,0,,水在移动\r\nDialogue: 2,0:15:46.32,0:15:47.30,Dialogue_CN,,0,0,0,,武器不管用\r\nDialogue: 2,0:15:47.30,0:15:48.34,Dialogue_CN,,0,0,0,,需要火\r\nDialogue: 2,0:15:49.17,0:15:49.83,Dialogue_CN,,0,0,0,,火?\r\nDialogue: 2,0:15:52.11,0:15:52.96,Dialogue_CN,,0,0,0,,要生火吗\r\nDialogue: 2,0:15:53.51,0:15:55.93,Dialogue_CN,,0,0,0,,玛露希尔 你自己想想办法\r\nDialogue: 2,0:15:56.47,0:15:58.15,Dialogue_CN,,0,0,0,,你说得简单…\r\nDialogue: 2,0:15:59.41,0:16:00.59,Dialogue_CN,,0,0,0,,希望能命中\r\nDialogue: 2,0:16:20.86,0:16:23.47,Dialogue_CN,,0,0,0,,玛露希尔 你在发什么呆\r\nDialogue: 2,0:16:24.29,0:16:25.83,Dialogue_CN,,0,0,0,,不要靠近水边\r\nDialogue: 2,0:16:26.14,0:16:28.34,Dialogue_CN,,0,0,0,,水上行走已经失效了\r\nDialogue: 2,0:16:35.83,0:16:36.51,Dialogue_CN,,0,0,0,,玛露希尔\r\nDialogue: 2,0:16:36.91,0:16:38.72,Dialogue_CN,,0,0,0,,不好 不要停下\r\nDialogue: 2,0:16:47.79,0:16:49.55,Dialogue_CN,,0,0,0,,腿受了伤 已经逃不掉了\r\nDialogue: 2,0:16:57.91,0:16:59.36,Dialogue_CN,,0,0,0,,躲在哪里\r\nDialogue: 2,0:17:10.59,0:17:12.83,Dialogue_CN,,0,0,0,,笨手笨脚 看不下去了\r\nDialogue: 2,0:17:13.13,0:17:15.09,Dialogue_CN,,0,0,0,,别急 我在生火了\r\nDialogue: 2,0:17:15.46,0:17:16.56,Dialogue_CN,,0,0,0,,来不及了\r\nDialogue: 2,0:17:19.66,0:17:21.37,Dialogue_CN,,0,0,0,,已经不剩多少魔力\r\nDialogue: 2,0:17:22.05,0:17:24.15,Dialogue_CN,,0,0,0,,最后一次攻击必须奏效\r\nDialogue: 2,0:17:29.99,0:17:30.64,Dialogue_CN,,0,0,0,,在哪\r\nDialogue: 2,0:17:32.08,0:17:32.82,Dialogue_CN,,0,0,0,,在哪\r\nDialogue: 2,0:17:33.81,0:17:35.90,Dialogue_CN,,0,0,0,,哪里有变化\r\nDialogue: 2,0:17:37.83,0:17:38.41,Dialogue_CN,,0,0,0,,发现了\r\nDialogue: 2,0:17:39.68,0:17:41.03,Dialogue_CN,,0,0,0,,沾血颜色改变了\r\nDialogue: 2,0:17:42.28,0:17:42.91,Dialogue_CN,,0,0,0,,好快\r\nDialogue: 2,0:17:51.17,0:17:51.88,Dialogue_CN,,0,0,0,,玛露希尔\r\nDialogue: 2,0:18:10.34,0:18:10.97,Dialogue_CN,,0,0,0,,喂\r\nDialogue: 2,0:18:12.58,0:18:13.46,Dialogue_CN,,0,0,0,,那是…\r\nDialogue: 2,0:18:16.96,0:18:18.51,Dialogue_CN,,0,0,0,,现在只有…\r\nDialogue: 2,0:18:21.31,0:18:23.99,Dialogue_CN,,0,0,0,,快逃\r\nDialogue: 2,0:18:30.02,0:18:31.34,Dialogue_CN,,0,0,0,,玛露希尔 怎么样了\r\nDialogue: 2,0:18:32.69,0:18:34.18,Dialogue_CN,,0,0,0,,虽然止过血\r\nDialogue: 2,0:18:34.90,0:18:36.45,Dialogue_CN,,0,0,0,,但血液和魔力不足\r\nDialogue: 2,0:18:37.11,0:18:38.31,Dialogue_CN,,0,0,0,,没法完全治愈\r\nDialogue: 2,0:18:39.45,0:18:40.14,Dialogue_CN,,0,0,0,,抱歉\r\nDialogue: 2,0:18:40.69,0:18:41.47,Dialogue_CN,,0,0,0,,别道歉\r\nDialogue: 2,0:18:41.97,0:18:43.09,Dialogue_CN,,0,0,0,,稍微躺一会吧\r\nDialogue: 2,0:18:45.66,0:18:49.28,Dialogue_CN,,0,0,0,,早知道该跟法琳好好学学治疗魔法了\r\nDialogue: 2,0:18:50.44,0:18:51.69,Dialogue_CN,,0,0,0,,我说 莱欧斯\r\nDialogue: 2,0:18:53.62,0:18:55.32,Dialogue_CN,,0,0,0,,接下来该怎么办\r\nDialogue: 2,0:18:55.62,0:18:58.71,Dialogue_CN,,0,0,0,,我们没法带一个耗尽魔力的魔法师前进\r\nDialogue: 2,0:18:59.39,0:19:02.31,Dialogue_CN,,0,0,0,,可没有水上行走 我们哪也去不了\r\nDialogue: 2,0:19:03.10,0:19:05.05,Dialogue_CN,,0,0,0,,等其他的冒险者经过吧\r\nDialogue: 2,0:19:06.15,0:19:08.24,Dialogue_CN,,0,0,0,,希望有治疗师或魔法师\r\nDialogue: 2,0:19:09.03,0:19:12.95,Dialogue_CN,,0,0,0,,哪会有热心助人的冒险者恰巧经过\r\nDialogue: 2,0:19:13.46,0:19:15.63,Dialogue_CN,,0,0,0,,我们也没什么好拿来交易的\r\nDialogue: 2,0:19:16.39,0:19:18.83,Dialogue_CN,,0,0,0,,硬要说只有水栖马的肉\r\nDialogue: 2,0:19:19.01,0:19:21.13,Dialogue_CN,,0,0,0,,只能希望对方就要饿死了\r\nDialogue: 2,0:19:21.64,0:19:24.32,Dialogue_CN,,0,0,0,,迷宫当中这样的营养来源很少\r\nDialogue: 2,0:19:24.57,0:19:26.80,Dialogue_CN,,0,0,0,,谁跟你讨论营养了\r\nDialogue: 2,0:19:28.60,0:19:29.30,Dialogue_CN,,0,0,0,,肉\r\nDialogue: 2,0:19:30.17,0:19:32.46,Dialogue_CN,,0,0,0,,我们的那些肉当中有肝脏吗\r\nDialogue: 2,0:19:32.99,0:19:33.89,Dialogue_CN,,0,0,0,,自然有\r\nDialogue: 2,0:19:34.13,0:19:36.96,Dialogue_CN,,0,0,0,,肝脏可是含有丰富的铁\r\nDialogue: 2,0:19:40.30,0:19:41.01,Dialogue_CN,,0,0,0,,铁\r\nDialogue: 2,0:19:42.03,0:19:42.84,Dialogue_CN,,0,0,0,,那么…\r\nDialogue: 2,0:19:44.68,0:19:46.35,Dialogue_CN,,0,0,0,,该烤肉了\r\nDialogue: 2,0:19:52.99,0:19:54.06,Dialogue_CN,,0,0,0,,鬃毛\r\nDialogue: 2,0:19:54.41,0:19:55.19,Dialogue_CN,,0,0,0,,脖子\r\nDialogue: 2,0:19:55.55,0:19:56.15,Dialogue_CN,,0,0,0,,肝脏\r\nDialogue: 2,0:19:56.84,0:19:57.51,Dialogue_CN,,0,0,0,,排骨\r\nDialogue: 2,0:19:57.90,0:19:58.84,Dialogue_CN,,0,0,0,,尾巴\r\nDialogue: 2,0:19:59.27,0:20:00.06,Dialogue_CN,,0,0,0,,大腿\r\nDialogue: 2,0:20:00.57,0:20:01.49,Dialogue_CN,,0,0,0,,里脊\r\nDialogue: 2,0:20:01.75,0:20:03.06,Dialogue_CN,,0,0,0,,蔬菜\r\nDialogue: 2,0:20:08.16,0:20:08.75,Dialogue_CN,,0,0,0,,玛露希尔\r\nDialogue: 2,0:20:09.90,0:20:10.66,Dialogue_CN,,0,0,0,,玛露希尔\r\nDialogue: 2,0:20:12.96,0:20:14.03,Dialogue_CN,,0,0,0,,能起来吗\r\nDialogue: 2,0:20:15.17,0:20:16.61,Dialogue_CN,,0,0,0,,给你准备了好吃的\r\nDialogue: 2,0:20:33.55,0:20:34.33,Dialogue_CN,,0,0,0,,大腿肉\r\nDialogue: 2,0:20:35.25,0:20:36.03,Dialogue_CN,,0,0,0,,肝呢\r\nDialogue: 2,0:20:36.75,0:20:39.54,Dialogue_CN,,0,0,0,,内脏需要烤很久才能熟\r\nDialogue: 2,0:20:43.41,0:20:44.67,Dialogue_CN,,0,0,0,,抱歉 玛露希尔\r\nDialogue: 2,0:20:45.04,0:20:46.00,Dialogue_CN,,0,0,0,,我先吃了\r\nDialogue: 2,0:20:49.68,0:20:50.83,Dialogue_CN,,0,0,0,,没有腥味呢\r\nDialogue: 2,0:20:52.30,0:20:53.93,Dialogue_CN,,0,0,0,,有点筋 但很好吃\r\nDialogue: 2,0:20:54.33,0:20:57.36,Dialogue_CN,,0,0,0,,味道是接近马还是海怪呢\r\nDialogue: 2,0:20:58.03,0:20:59.58,Dialogue_CN,,0,0,0,,马和海怪我都没吃过\r\nDialogue: 2,0:20:59.58,0:21:01.22,Dialogue_CN,,0,0,0,,分不出 还真有点遗憾\r\nDialogue: 2,0:21:02.56,0:21:03.17,Dialogue_CN,,0,0,0,,排骨肉\r\nDialogue: 2,0:21:04.22,0:21:05.63,Dialogue_CN,,0,0,0,,脂肪好甜\r\nDialogue: 2,0:21:05.74,0:21:07.43,Dialogue_CN,,0,0,0,,好软啊\r\nDialogue: 2,0:21:07.79,0:21:10.11,Dialogue_CN,,0,0,0,,玛露希尔 肝烤好了\r\nDialogue: 2,0:21:11.07,0:21:11.71,Dialogue_CN,,0,0,0,,里脊肉\r\nDialogue: 2,0:21:12.75,0:21:14.93,Dialogue_CN,,0,0,0,,要在嘴里融化了一样\r\nDialogue: 2,0:21:15.24,0:21:16.44,Dialogue_CN,,0,0,0,,我喜欢\r\nDialogue: 2,0:21:17.28,0:21:18.32,Dialogue_CN,,0,0,0,,吃点肝 玛露希尔\r\nDialogue: 2,0:21:19.48,0:21:20.30,Dialogue_CN,,0,0,0,,尾巴肉\r\nDialogue: 2,0:21:21.31,0:21:22.14,Dialogue_CN,,0,0,0,,好吃\r\nDialogue: 2,0:21:22.56,0:21:24.53,Dialogue_CN,,0,0,0,,感觉味道很独特\r\nDialogue: 2,0:21:25.03,0:21:26.03,Dialogue_CN,,0,0,0,,给 玛露希尔\r\nDialogue: 2,0:21:27.08,0:21:28.62,Dialogue_CN,,0,0,0,,来点肝 玛露希尔\r\nDialogue: 2,0:21:29.39,0:21:30.70,Dialogue_CN,,0,0,0,,好吃吗 玛露希尔\r\nDialogue: 2,0:21:30.94,0:21:32.26,Dialogue_CN,,0,0,0,,多吃点 玛露希尔\r\nDialogue: 2,0:21:32.61,0:21:34.02,Dialogue_CN,,0,0,0,,怎么样 玛露希尔\r\nDialogue: 2,0:21:39.31,0:21:39.87,Dialogue_CN,,0,0,0,,其…\r\nDialogue: 2,0:21:41.14,0:21:41.50,Dialogue_CN,,0,0,0,,其?\r\nDialogue: 2,0:21:42.01,0:21:43.95,Dialogue_CN,,0,0,0,,其他部位也让我吃点\r\nDialogue: 2,0:21:49.40,0:21:51.23,Dialogue_CN,,0,0,0,,精神好像是恢复了一点\r\nDialogue: 2,0:21:51.58,0:21:52.91,Dialogue_CN,,0,0,0,,肝好厉害\r\nDialogue: 2,0:21:53.83,0:21:56.54,Dialogue_CN,,0,0,0,,不说别的 魔法耗尽了怎么办\r\nDialogue: 2,0:21:57.01,0:21:59.43,Dialogue_CN,,0,0,0,,要是有能恢复魔法的肉就好了\r\nDialogue: 2,0:21:59.67,0:22:02.15,Dialogue_CN,,0,0,0,,之前料理巴西利斯克填魔力草做什么\r\nDialogue: 2,0:22:02.36,0:22:04.37,Dialogue_CN,,0,0,0,,那是当时最好的选择\r\nDialogue: 2,0:22:10.18,0:22:11.81,Dialogue_CN,,0,0,0,,是不是有什么味道\r\nDialogue: 2,0:22:12.74,0:22:13.62,Dialogue_CN,,0,0,0,,从下面飘上来的\r\nDialogue: 2,0:22:14.09,0:22:15.41,Dialogue_CN,,0,0,0,,这是什么味道\r\nDialogue: 2,0:22:16.07,0:22:17.75,Dialogue_CN,,0,0,0,,肉被烤了的味道?\r\nDialogue: 2,0:22:18.56,0:22:20.33,Dialogue_CN,,0,0,0,,好像是在做饭\r\nDialogue: 2,0:22:22.67,0:22:23.39,Dialogue_CN,,0,0,0,,真是的\r\nDialogue: 2,0:22:24.08,0:22:25.66,Dialogue_CN,,0,0,0,,哪里跑来的家伙\r\nDialogue: 2,0:22:26.62,0:22:28.89,Dialogue_CN,,0,0,0,,在这里烤肉是不是蠢\r\nDialogue: 0,0:19:52.91,0:20:03.17,Screen,,0,0,0,,{\\fnP0P6O5UT\\c&H323434&\\bord0\\3c&HA8D3E1&\\b1\\pos(166.4,110.4)}鬃毛\r\nDialogue: 0,0:19:54.16,0:20:03.17,Screen,,0,0,0,,{\\fnP0P6O5UT\\c&H323434&\\bord0\\3c&HA8D3E1&\\b1\\pos(1715.2,611.2)}脖子\r\nDialogue: 0,0:19:55.42,0:20:03.17,Screen,,0,0,0,,{\\fnP0P6O5UT\\c&H323434&\\bord0\\3c&HA8D3E1&\\b1\\pos(1072,148.8)}肝脏\r\nDialogue: 0,0:19:56.67,0:20:03.17,Screen,,0,0,0,,{\\fnP0P6O5UT\\c&H323434&\\bord0\\3c&HA8D3E1&\\b1\\pos(1246.4,604.8)}排骨\r\nDialogue: 0,0:19:57.92,0:20:03.17,Screen,,0,0,0,,{\\fnP0P6O5UT\\c&H323434&\\bord0\\3c&HA8D3E1&\\b1\\pos(1512,396.8)}尾巴\r\nDialogue: 0,0:19:59.17,0:20:03.17,Screen,,0,0,0,,{\\fnP0P6O5UT\\c&H323434&\\bord0\\3c&HA8D3E1&\\b1\\pos(920,265.6)}大腿\r\nDialogue: 0,0:20:00.42,0:20:03.17,Screen,,0,0,0,,{\\fnP0P6O5UT\\c&H323434&\\bord0\\3c&HA8D3E1&\\b1\\pos(644.8,420.8)}里脊\r\nDialogue: 0,0:20:01.67,0:20:03.17,Screen,,0,0,0,,{\\fnP0P6O5UT\\c&H323434&\\bord0\\3c&HA8D3E1&\\b1\\frz9.496\\pos(572.8,6.4)}也要好好吃菜哦\r\nDialogue: 0,0:20:01.67,0:20:03.17,Screen,,0,0,0,,{\\fnP0P6O5UT\\c&H323434&\\bord0\\3c&HA8D3E1&\\b1\\pos(636.8,205.2)\\frz10.24}卷心菜\r\nDialogue: 0,0:20:01.67,0:20:03.17,Screen,,0,0,0,,{\\fnP0P6O5UT\\c&H323434&\\bord0\\3c&HA8D3E1&\\b1\\pos(1748.8,808)}洋葱\r\nDialogue: 0,0:20:01.67,0:20:03.17,Screen,,0,0,0,,{\\fnP0P6O5UT\\c&H323434&\\bord0\\3c&HA8D3E1&\\b1\\pos(1750.4,1030.8)}也要好好吃菜哦\r\nDialogue: 0,0:20:03.17,0:20:07.18,Screen,,0,0,0,,{\\fs66\\fnP0P6O5UT\\c&H213545&\\bord2\\3c&HA8D3E1&\\pos(492,220)}烤水栖马肉\r\nDialogue: 0,0:00:04.27,0:00:12.02,Meshi_OPJP,,0,0,0,,外から窓をくぐった光が　床に作った最初の友達\r\nDialogue: 0,0:00:12.02,0:00:19.32,Meshi_OPJP,,0,0,0,,空っぽの手を容易く取られて　連れ出されてから夢の中\r\nDialogue: 0,0:00:19.32,0:00:27.00,Meshi_OPJP,,0,0,0,,幾つかの普通が重なり合うと　時々そこには魔法が宿る\r\nDialogue: 0,0:00:27.00,0:00:34.46,Meshi_OPJP,,0,0,0,,あれは恐らく悪魔だった　あれから醒めない夢の中\r\nDialogue: 0,0:00:35.01,0:00:38.26,Meshi_OPJP,,0,0,0,,籠の中　鳥が鳴いて気付いた\r\nDialogue: 0,0:00:38.72,0:00:43.81,Meshi_OPJP,,0,0,0,,失くしていた事　もう引き返せない事\r\nDialogue: 0,0:00:45.60,0:00:53.02,Meshi_OPJP,,0,0,0,,どうして体は生きたがるの　心に何を求めているの\r\nDialogue: 0,0:00:53.02,0:01:00.57,Meshi_OPJP,,0,0,0,,肺が吸い込んだ　続きの世界　何度でも吐いた　命の証\r\nDialogue: 0,0:01:00.57,0:01:08.12,Meshi_OPJP,,0,0,0,,さあ今　鍵が廻る音　探し物が囁くよ\r\nDialogue: 0,0:01:08.12,0:01:16.30,Meshi_OPJP,,0,0,0,,赤い血が巡る　その全てで　見えない糸を手繰り寄せて\r\nDialogue: 0,0:00:04.27,0:00:12.02,Meshi_OPCN,,0,0,0,,窗外的一缕光线洒落地面 是最初的朋友\r\nDialogue: 0,0:00:12.02,0:00:19.32,Meshi_OPCN,,0,0,0,,空无一物的手就这样被握紧 启程便是梦境之中\r\nDialogue: 0,0:00:19.32,0:00:27.00,Meshi_OPCN,,0,0,0,,一次次平凡的遭遇 魔法也时而蕴藏其中\r\nDialogue: 0,0:00:27.00,0:00:34.46,Meshi_OPCN,,0,0,0,,那恐怕便是恶魔 从此便是难以苏醒的梦境\r\nDialogue: 0,0:00:35.01,0:00:38.26,Meshi_OPCN,,0,0,0,,笼中的鸟儿啼鸣 回过神来\r\nDialogue: 0,0:00:38.72,0:00:43.81,Meshi_OPCN,,0,0,0,,失去的事物 无法挽回的事物\r\nDialogue: 0,0:00:45.60,0:00:53.02,Meshi_OPCN,,0,0,0,,为何身体不肯放弃生存 内心在向往什么\r\nDialogue: 0,0:00:53.02,0:01:00.57,Meshi_OPCN,,0,0,0,,用力吸气 今后的世界 无数次吐气 生命的证明\r\nDialogue: 0,0:01:00.57,0:01:08.12,Meshi_OPCN,,0,0,0,,现在钥匙转动的声音响起 寻找之物就在前方\r\nDialogue: 0,0:01:08.12,0:01:16.30,Meshi_OPCN,,0,0,0,,血液涌上 一切的一切 收起无法看见的丝线\r\nDialogue: 0,0:22:32.53,0:22:35.99,Meshi_EDJP,,888,0,0,,{\\blur2}君のためのパーティーだ！\r\nDialogue: 0,0:22:42.62,0:22:46.34,Meshi_EDJP,,0,1070,0,,{\\blur2}どこから話すべきかな\r\nDialogue: 0,0:22:46.34,0:22:51.67,Meshi_EDJP,,0,1070,0,,{\\blur2}君にはそういつも救われてきたんだ\r\nDialogue: 0,0:22:51.67,0:22:58.18,Meshi_EDJP,,0,820,1,,{\\blur2}だから今日こそはとびきりをプレゼント\r\nDialogue: 0,0:22:59.14,0:23:00.93,Meshi_EDJP,,0,0,0,,{\\blur2}さぁ始めるよ\r\nDialogue: 0,0:23:01.43,0:23:03.73,Meshi_EDJP,,0,0,0,,{\\blur2}着慣れてないドレスコード\r\nDialogue: 0,0:23:03.73,0:23:06.73,Meshi_EDJP,,0,0,0,,{\\blur2}お馴染みの顔がお出迎え\r\nDialogue: 0,0:23:07.77,0:23:09.11,Meshi_EDJP,,0,0,0,,{\\blur2}君のこと\r\nDialogue: 0,0:23:09.11,0:23:11.74,Meshi_EDJP,,0,0,0,,{\\blur2}みんなが想っているんだよ\r\nDialogue: 0,0:23:11.74,0:23:13.07,Meshi_EDJP,,0,777,1,,{\\blur2}Full-course session\r\nDialogue: 0,0:23:13.07,0:23:15.45,Meshi_EDJP,,0,777,1,,{\\blur2}※リアクションはノンフィクション\r\nDialogue: 0,0:23:15.45,0:23:17.45,Meshi_EDJP,,0,777,1,,{\\blur2}ボナペティート！\r\nDialogue: 0,0:23:20.75,0:23:22.71,Meshi_EDJP,,0,0,0,,{\\blur2}「ありがとう」じゃ足らんなくて\r\nDialogue: 0,0:23:22.71,0:23:25.46,Meshi_EDJP,,0,0,0,,{\\blur2}それ以上なら何だっていい\r\nDialogue: 0,0:23:25.71,0:23:28.71,Meshi_EDJP,,0,0,0,,{\\blur2}ただ君に伝われ！\r\nDialogue: 0,0:23:28.71,0:23:30.59,Meshi_EDJP,,0,777,0,,{\\blur2}ふざけ合って笑う時も\r\nDialogue: 0,0:23:30.59,0:23:33.47,Meshi_EDJP,,0,777,0,,{\\blur2}涙こぼれそうな夜も\r\nDialogue: 0,0:23:33.47,0:23:36.47,Meshi_EDJP,,0,777,0,,{\\blur2}君のための仲間だ\r\nDialogue: 0,0:23:36.47,0:23:38.43,Meshi_EDJP,,777,0,0,,{\\blur2}それはどんな魔法だって\r\nDialogue: 0,0:23:38.43,0:23:41.31,Meshi_EDJP,,777,0,0,,{\\blur2}超えるような希望のフレイバー\r\nDialogue: 0,0:23:41.47,0:23:44.23,Meshi_EDJP,,0,0,0,,{\\blur2}ただ君が笑うだけ\r\nDialogue: 0,0:23:44.23,0:23:46.31,Meshi_EDJP,,0,777,0,,{\\blur2}だから今日は騒いだって\r\nDialogue: 0,0:23:46.31,0:23:49.23,Meshi_EDJP,,0,777,0,,{\\blur2}誰も文句は言わせない\r\nDialogue: 0,0:23:49.23,0:23:51.94,Meshi_EDJP,,888,0,0,,{\\blur2}君のためのパーティーだ！\r\nDialogue: 0,0:23:51.94,0:23:55.49,Meshi_EDJP,,888,0,0,,{\\blur2}楽しもうよ\r\nDialogue: 0,0:23:57.07,0:23:58.82,Meshi_EDJP,,0,0,0,,{\\an8\\blur2}いいから跳んじゃって！\r\nDialogue: 0,0:22:32.53,0:22:35.99,Meshi_EDCN,,888,0,0,,都是为你准备的聚会\r\nDialogue: 0,0:22:42.62,0:22:46.34,Meshi_EDCN,,0,1070,0,,该从何处说起呢\r\nDialogue: 0,0:22:46.34,0:22:51.67,Meshi_EDCN,,0,1070,0,,一路总是得到你的拯救\r\nDialogue: 0,0:22:51.67,0:22:58.18,Meshi_EDCN,,0,820,1,,所以今天要送你一份惊喜\r\nDialogue: 0,0:22:59.14,0:23:00.93,Meshi_EDCN,,0,0,0,,那开始吧\r\nDialogue: 0,0:23:01.43,0:23:03.73,Meshi_EDCN,,0,0,0,,不习惯的衣着打扮\r\nDialogue: 0,0:23:03.73,0:23:06.73,Meshi_EDCN,,0,0,0,,熟悉的朋友前来迎接\r\nDialogue: 0,0:23:07.77,0:23:09.11,Meshi_EDCN,,0,0,0,,你的事情\r\nDialogue: 0,0:23:09.11,0:23:11.74,Meshi_EDCN,,0,0,0,,大家何时曾经忘记\r\nDialogue: 0,0:23:11.74,0:23:13.07,Meshi_EDCN,,0,777,1,,Full-course session\r\nDialogue: 0,0:23:13.07,0:23:15.45,Meshi_EDCN,,0,777,1,,※反应并非虚构\r\nDialogue: 0,0:23:15.45,0:23:17.45,Meshi_EDCN,,0,777,1,,用餐愉快\r\nDialogue: 0,0:23:20.75,0:23:22.71,Meshi_EDCN,,0,0,0,,「谢谢」还不足够\r\nDialogue: 0,0:23:22.71,0:23:25.46,Meshi_EDCN,,0,0,0,,在此之上怎样都好\r\nDialogue: 0,0:23:25.71,0:23:28.71,Meshi_EDCN,,0,0,0,,只要理解便好\r\nDialogue: 0,0:23:28.71,0:23:30.59,Meshi_EDCN,,0,777,0,,打闹也好欢笑也好\r\nDialogue: 0,0:23:30.59,0:23:33.47,Meshi_EDCN,,0,777,0,,打湿眼眶的夜晚也好\r\nDialogue: 0,0:23:33.47,0:23:36.47,Meshi_EDCN,,0,777,0,,大家都是你的伙伴\r\nDialogue: 0,0:23:36.47,0:23:38.43,Meshi_EDCN,,777,0,0,,无论怎样的魔法\r\nDialogue: 0,0:23:38.43,0:23:41.31,Meshi_EDCN,,777,0,0,,都难比拟的希望的味道\r\nDialogue: 0,0:23:41.47,0:23:44.23,Meshi_EDCN,,0,0,0,,只要看到你的笑容\r\nDialogue: 0,0:23:44.23,0:23:46.31,Meshi_EDCN,,0,777,0,,今天就尽情喧闹吧\r\nDialogue: 0,0:23:46.31,0:23:49.23,Meshi_EDCN,,0,777,0,,没有人能有意见\r\nDialogue: 0,0:23:49.23,0:23:51.94,Meshi_EDCN,,888,0,0,,都是为你准备的聚会\r\nDialogue: 0,0:23:51.94,0:23:55.49,Meshi_EDCN,,888,0,0,,开心尽兴吧\r\nDialogue: 0,0:23:57.07,0:23:58.82,Meshi_EDCN,,0,0,0,,就来跳起来吧\r\n",
      "\nDuring handling of the above exception, another exception occurred:\n",
      "\u001b[1;31mTypeError\u001b[0m                                 Traceback (most recent call last)",
      "Cell \u001b[1;32mIn[43], line 39\u001b[0m\n\u001b[0;32m     37\u001b[0m srt_file \u001b[38;5;241m=\u001b[39m demo_srt\n\u001b[0;32m     38\u001b[0m output_dir \u001b[38;5;241m=\u001b[39m \u001b[38;5;124m'\u001b[39m\u001b[38;5;124moutput_segments\u001b[39m\u001b[38;5;124m'\u001b[39m\n\u001b[1;32m---> 39\u001b[0m \u001b[43mextract_audio_segments\u001b[49m\u001b[43m(\u001b[49m\u001b[43mmkv_file\u001b[49m\u001b[43m,\u001b[49m\u001b[43m \u001b[49m\u001b[43msrt_file\u001b[49m\u001b[43m,\u001b[49m\u001b[43m \u001b[49m\u001b[43moutput_dir\u001b[49m\u001b[43m)\u001b[49m\n",
      "Cell \u001b[1;32mIn[43], line 6\u001b[0m, in \u001b[0;36mextract_audio_segments\u001b[1;34m(mkv_file, srt_file, output_dir)\u001b[0m\n\u001b[0;32m      4\u001b[0m \u001b[38;5;28;01mdef\u001b[39;00m \u001b[38;5;21mextract_audio_segments\u001b[39m(mkv_file, srt_file, output_dir):\n\u001b[0;32m      5\u001b[0m     \u001b[38;5;66;03m# 读取SRT文件\u001b[39;00m\n\u001b[1;32m----> 6\u001b[0m     subs \u001b[38;5;241m=\u001b[39m \u001b[43mpysrt\u001b[49m\u001b[38;5;241;43m.\u001b[39;49m\u001b[43mopen\u001b[49m\u001b[43m(\u001b[49m\u001b[43msrt_file\u001b[49m\u001b[43m,\u001b[49m\u001b[43m \u001b[49m\u001b[43mencoding\u001b[49m\u001b[38;5;241;43m=\u001b[39;49m\u001b[38;5;124;43m'\u001b[39;49m\u001b[38;5;124;43mutf-8\u001b[39;49m\u001b[38;5;124;43m'\u001b[39;49m\u001b[43m,\u001b[49m\u001b[43m \u001b[49m\u001b[43merror_handling\u001b[49m\u001b[38;5;241;43m=\u001b[39;49m\u001b[43mpysrt\u001b[49m\u001b[38;5;241;43m.\u001b[39;49m\u001b[43mERROR_LOG\u001b[49m\u001b[43m)\u001b[49m\n\u001b[0;32m      7\u001b[0m     content \u001b[38;5;241m=\u001b[39m subs\u001b[38;5;241m.\u001b[39mdata\n\u001b[0;32m      8\u001b[0m     \u001b[38;5;28mprint\u001b[39m(content)\n",
      "File \u001b[1;32mc:\\Users\\River\\miniconda3\\envs\\anivoice\\Lib\\site-packages\\pysrt\\srtfile.py:153\u001b[0m, in \u001b[0;36mSubRipFile.open\u001b[1;34m(cls, path, encoding, error_handling)\u001b[0m\n\u001b[0;32m    151\u001b[0m source_file, encoding \u001b[38;5;241m=\u001b[39m \u001b[38;5;28mcls\u001b[39m\u001b[38;5;241m.\u001b[39m_open_unicode_file(path, claimed_encoding\u001b[38;5;241m=\u001b[39mencoding)\n\u001b[0;32m    152\u001b[0m new_file \u001b[38;5;241m=\u001b[39m \u001b[38;5;28mcls\u001b[39m(path\u001b[38;5;241m=\u001b[39mpath, encoding\u001b[38;5;241m=\u001b[39mencoding)\n\u001b[1;32m--> 153\u001b[0m \u001b[43mnew_file\u001b[49m\u001b[38;5;241;43m.\u001b[39;49m\u001b[43mread\u001b[49m\u001b[43m(\u001b[49m\u001b[43msource_file\u001b[49m\u001b[43m,\u001b[49m\u001b[43m \u001b[49m\u001b[43merror_handling\u001b[49m\u001b[38;5;241;43m=\u001b[39;49m\u001b[43merror_handling\u001b[49m\u001b[43m)\u001b[49m\n\u001b[0;32m    154\u001b[0m source_file\u001b[38;5;241m.\u001b[39mclose()\n\u001b[0;32m    155\u001b[0m \u001b[38;5;28;01mreturn\u001b[39;00m new_file\n",
      "File \u001b[1;32mc:\\Users\\River\\miniconda3\\envs\\anivoice\\Lib\\site-packages\\pysrt\\srtfile.py:181\u001b[0m, in \u001b[0;36mSubRipFile.read\u001b[1;34m(self, source_file, error_handling)\u001b[0m\n\u001b[0;32m    171\u001b[0m \u001b[38;5;250m\u001b[39m\u001b[38;5;124;03m\"\"\"\u001b[39;00m\n\u001b[0;32m    172\u001b[0m \u001b[38;5;124;03mread(source_file, [error_handling])\u001b[39;00m\n\u001b[0;32m    173\u001b[0m \n\u001b[1;32m   (...)\u001b[0m\n\u001b[0;32m    178\u001b[0m \u001b[38;5;124;03m    opened with `codecs.open()` or an array of unicode.\u001b[39;00m\n\u001b[0;32m    179\u001b[0m \u001b[38;5;124;03m\"\"\"\u001b[39;00m\n\u001b[0;32m    180\u001b[0m \u001b[38;5;28mself\u001b[39m\u001b[38;5;241m.\u001b[39meol \u001b[38;5;241m=\u001b[39m \u001b[38;5;28mself\u001b[39m\u001b[38;5;241m.\u001b[39m_guess_eol(source_file)\n\u001b[1;32m--> 181\u001b[0m \u001b[38;5;28;43mself\u001b[39;49m\u001b[38;5;241;43m.\u001b[39;49m\u001b[43mextend\u001b[49m\u001b[43m(\u001b[49m\u001b[38;5;28;43mself\u001b[39;49m\u001b[38;5;241;43m.\u001b[39;49m\u001b[43mstream\u001b[49m\u001b[43m(\u001b[49m\u001b[43msource_file\u001b[49m\u001b[43m,\u001b[49m\u001b[43m \u001b[49m\u001b[43merror_handling\u001b[49m\u001b[38;5;241;43m=\u001b[39;49m\u001b[43merror_handling\u001b[49m\u001b[43m)\u001b[49m\u001b[43m)\u001b[49m\n\u001b[0;32m    182\u001b[0m \u001b[38;5;28;01mreturn\u001b[39;00m \u001b[38;5;28mself\u001b[39m\n",
      "File \u001b[1;32mc:\\Users\\River\\miniconda3\\envs\\anivoice\\Lib\\collections\\__init__.py:1340\u001b[0m, in \u001b[0;36mUserList.extend\u001b[1;34m(self, other)\u001b[0m\n\u001b[0;32m   1338\u001b[0m     \u001b[38;5;28mself\u001b[39m\u001b[38;5;241m.\u001b[39mdata\u001b[38;5;241m.\u001b[39mextend(other\u001b[38;5;241m.\u001b[39mdata)\n\u001b[0;32m   1339\u001b[0m \u001b[38;5;28;01melse\u001b[39;00m:\n\u001b[1;32m-> 1340\u001b[0m     \u001b[38;5;28;43mself\u001b[39;49m\u001b[38;5;241;43m.\u001b[39;49m\u001b[43mdata\u001b[49m\u001b[38;5;241;43m.\u001b[39;49m\u001b[43mextend\u001b[49m\u001b[43m(\u001b[49m\u001b[43mother\u001b[49m\u001b[43m)\u001b[49m\n",
      "File \u001b[1;32mc:\\Users\\River\\miniconda3\\envs\\anivoice\\Lib\\site-packages\\pysrt\\srtfile.py:215\u001b[0m, in \u001b[0;36mSubRipFile.stream\u001b[1;34m(cls, source_file, error_handling)\u001b[0m\n\u001b[0;32m    213\u001b[0m \u001b[38;5;28;01mexcept\u001b[39;00m Error \u001b[38;5;28;01mas\u001b[39;00m error:\n\u001b[0;32m    214\u001b[0m     error\u001b[38;5;241m.\u001b[39margs \u001b[38;5;241m+\u001b[39m\u001b[38;5;241m=\u001b[39m (\u001b[38;5;124m'\u001b[39m\u001b[38;5;124m'\u001b[39m\u001b[38;5;241m.\u001b[39mjoin(source), )\n\u001b[1;32m--> 215\u001b[0m     \u001b[38;5;28;43mcls\u001b[39;49m\u001b[38;5;241;43m.\u001b[39;49m\u001b[43m_handle_error\u001b[49m\u001b[43m(\u001b[49m\u001b[43merror\u001b[49m\u001b[43m,\u001b[49m\u001b[43m \u001b[49m\u001b[43merror_handling\u001b[49m\u001b[43m,\u001b[49m\u001b[43m \u001b[49m\u001b[43mindex\u001b[49m\u001b[43m)\u001b[49m\n",
      "File \u001b[1;32mc:\\Users\\River\\miniconda3\\envs\\anivoice\\Lib\\site-packages\\pysrt\\srtfile.py:311\u001b[0m, in \u001b[0;36mSubRipFile._handle_error\u001b[1;34m(cls, error, error_handling, index)\u001b[0m\n\u001b[0;32m    309\u001b[0m name \u001b[38;5;241m=\u001b[39m \u001b[38;5;28mtype\u001b[39m(error)\u001b[38;5;241m.\u001b[39m\u001b[38;5;18m__name__\u001b[39m\n\u001b[0;32m    310\u001b[0m sys\u001b[38;5;241m.\u001b[39mstderr\u001b[38;5;241m.\u001b[39mwrite(\u001b[38;5;124m'\u001b[39m\u001b[38;5;124mPySRT-\u001b[39m\u001b[38;5;132;01m%s\u001b[39;00m\u001b[38;5;124m(line \u001b[39m\u001b[38;5;132;01m%s\u001b[39;00m\u001b[38;5;124m): \u001b[39m\u001b[38;5;130;01m\\n\u001b[39;00m\u001b[38;5;124m'\u001b[39m \u001b[38;5;241m%\u001b[39m (name, index))\n\u001b[1;32m--> 311\u001b[0m \u001b[43msys\u001b[49m\u001b[38;5;241;43m.\u001b[39;49m\u001b[43mstderr\u001b[49m\u001b[38;5;241;43m.\u001b[39;49m\u001b[43mwrite\u001b[49m\u001b[43m(\u001b[49m\u001b[43merror\u001b[49m\u001b[38;5;241;43m.\u001b[39;49m\u001b[43margs\u001b[49m\u001b[43m[\u001b[49m\u001b[38;5;241;43m0\u001b[39;49m\u001b[43m]\u001b[49m\u001b[38;5;241;43m.\u001b[39;49m\u001b[43mencode\u001b[49m\u001b[43m(\u001b[49m\u001b[38;5;124;43m'\u001b[39;49m\u001b[38;5;124;43mascii\u001b[39;49m\u001b[38;5;124;43m'\u001b[39;49m\u001b[43m,\u001b[49m\u001b[43m \u001b[49m\u001b[38;5;124;43m'\u001b[39;49m\u001b[38;5;124;43mreplace\u001b[39;49m\u001b[38;5;124;43m'\u001b[39;49m\u001b[43m)\u001b[49m\u001b[43m)\u001b[49m\n\u001b[0;32m    312\u001b[0m sys\u001b[38;5;241m.\u001b[39mstderr\u001b[38;5;241m.\u001b[39mwrite(\u001b[38;5;124m'\u001b[39m\u001b[38;5;130;01m\\n\u001b[39;00m\u001b[38;5;124m'\u001b[39m)\n",
      "File \u001b[1;32mc:\\Users\\River\\miniconda3\\envs\\anivoice\\Lib\\site-packages\\ipykernel\\iostream.py:668\u001b[0m, in \u001b[0;36mOutStream.write\u001b[1;34m(self, string)\u001b[0m\n\u001b[0;32m    666\u001b[0m \u001b[38;5;28;01mif\u001b[39;00m \u001b[38;5;129;01mnot\u001b[39;00m \u001b[38;5;28misinstance\u001b[39m(string, \u001b[38;5;28mstr\u001b[39m):\n\u001b[0;32m    667\u001b[0m     msg \u001b[38;5;241m=\u001b[39m \u001b[38;5;124mf\u001b[39m\u001b[38;5;124m\"\u001b[39m\u001b[38;5;124mwrite() argument must be str, not \u001b[39m\u001b[38;5;132;01m{\u001b[39;00m\u001b[38;5;28mtype\u001b[39m(string)\u001b[38;5;132;01m}\u001b[39;00m\u001b[38;5;124m\"\u001b[39m  \u001b[38;5;66;03m# type:ignore[unreachable]\u001b[39;00m\n\u001b[1;32m--> 668\u001b[0m     \u001b[38;5;28;01mraise\u001b[39;00m \u001b[38;5;167;01mTypeError\u001b[39;00m(msg)\n\u001b[0;32m    670\u001b[0m \u001b[38;5;28;01mif\u001b[39;00m \u001b[38;5;28mself\u001b[39m\u001b[38;5;241m.\u001b[39mecho \u001b[38;5;129;01mis\u001b[39;00m \u001b[38;5;129;01mnot\u001b[39;00m \u001b[38;5;28;01mNone\u001b[39;00m:\n\u001b[0;32m    671\u001b[0m     \u001b[38;5;28;01mtry\u001b[39;00m:\n",
      "\u001b[1;31mTypeError\u001b[0m: write() argument must be str, not <class 'bytes'>"
     ]
    }
   ],
   "source": [
    "import ffmpeg\n",
    "import pysrt\n",
    "\n",
    "def extract_audio_segments(mkv_file, srt_file, output_dir):\n",
    "    # 读取SRT文件\n",
    "    subs = pysrt.open(srt_file, encoding='utf-8', error_handling=pysrt.ERROR_LOG)\n",
    "    content = subs.data\n",
    "    print(content)\n",
    "    print(subs)\n",
    "    for i, sub in enumerate(subs):\n",
    "        # 获取字幕的开始时间和结束时间\n",
    "        start_time = sub.start.to_time()\n",
    "        end_time = sub.end.to_time()\n",
    "        \n",
    "        # 转换时间格式为ffmpeg可接受的格式\n",
    "        start_time_str = f'{start_time.hour:02}:{start_time.minute:02}:{start_time.second:02}.{start_time.microsecond//1000:03}'\n",
    "        end_time_str = f'{end_time.hour:02}:{end_time.minute:02}:{end_time.second:02}.{end_time.microsecond//1000:03}'\n",
    "        \n",
    "        print(start_time_str, end_time_str)\n",
    "        # # 计算剪切的持续时间\n",
    "        # duration_str = f'{(end_time - start_time).total_seconds():.3f}'\n",
    "        \n",
    "        # # 输出文件名\n",
    "        # output_file = f\"{output_dir}/segment_{i+1:03}.mp3\"\n",
    "        \n",
    "        # # 使用ffmpeg提取音频段\n",
    "        # (\n",
    "        #     ffmpeg\n",
    "        #     .input(mkv_file, ss=start_time_str, t=duration_str)\n",
    "        #     .output(output_file)\n",
    "        #     .run(overwrite_output=True)\n",
    "        # )\n",
    "        # print(f\"Extracted segment {i+1} to {output_file}\")\n",
    "\n",
    "# 示例用法\n",
    "mkv_file = demo_episode\n",
    "srt_file = demo_srt\n",
    "output_dir = 'output_segments'\n",
    "extract_audio_segments(mkv_file, srt_file, output_dir)\n"
   ]
  },
  {
   "cell_type": "code",
   "execution_count": 7,
   "metadata": {},
   "outputs": [
    {
     "data": {
      "text/plain": [
       "'C:\\\\Users\\\\River\\\\Models\\\\AniVoiceDatasetPreparer\\\\output\\\\Dungeon Meshi\\\\subtitles\\\\[Nekomoe kissaten&LoliHouse] Dungeon Meshi - 01 [WebRip 1080p HEVC-10bit AAC EAC3 ASSx2].ass'"
      ]
     },
     "execution_count": 7,
     "metadata": {},
     "output_type": "execute_result"
    }
   ],
   "source": [
    "demo_srt"
   ]
  },
  {
   "cell_type": "code",
   "execution_count": 25,
   "metadata": {},
   "outputs": [
    {
     "name": "stdout",
     "output_type": "stream",
     "text": [
      "Staff\n",
      "0:23:12.11 0:23:14.11\n",
      "\\\\RiverNAS\\RiverNAS\\Bangumi\\[Nekomoe kissaten&LoliHouse] Dungeon Meshi [WebRip 1080p HEVC-10bit AAC EAC3 ASSx2]\\[Nekomoe kissaten&LoliHouse] Dungeon Meshi - 01 [WebRip 1080p HEVC-10bit AAC EAC3 ASSx2].mkv output_segments/segment_001.mp3\n",
      "\"Tools\\QuickCut v1.8.0 (已包含FFmpeg)\\QuickCut\\ffmpeg.exe\" -i \"\\\\RiverNAS\\RiverNAS\\Bangumi\\[Nekomoe kissaten&LoliHouse] Dungeon Meshi [WebRip 1080p HEVC-10bit AAC EAC3 ASSx2]\\[Nekomoe kissaten&LoliHouse] Dungeon Meshi - 01 [WebRip 1080p HEVC-10bit AAC EAC3 ASSx2].mkv\" -ss 0:23:12.11 -t 0:00:02.00 \"output_segments/segment_001.mp3\"\n",
      "\n",
      "ffmpeg version 4.4.1-full_build-www.gyan.dev Copyright (c) 2000-2021 the FFmpeg developers\n",
      "  built with gcc 11.2.0 (Rev1, Built by MSYS2 project)\n",
      "  configuration: --enable-gpl --enable-version3 --enable-shared --disable-w32threads --disable-autodetect --enable-fontconfig --enable-iconv --enable-gnutls --enable-libxml2 --enable-gmp --enable-lzma --enable-libsnappy --enable-zlib --enable-librist --enable-libsrt --enable-libssh --enable-libzmq --enable-avisynth --enable-libbluray --enable-libcaca --enable-sdl2 --enable-libdav1d --enable-libzvbi --enable-librav1e --enable-libsvtav1 --enable-libwebp --enable-libx264 --enable-libx265 --enable-libxvid --enable-libaom --enable-libopenjpeg --enable-libvpx --enable-libass --enable-frei0r --enable-libfreetype --enable-libfribidi --enable-libvidstab --enable-libvmaf --enable-libzimg --enable-amf --enable-cuda-llvm --enable-cuvid --enable-ffnvcodec --enable-nvdec --enable-nvenc --enable-d3d11va --enable-dxva2 --enable-libmfx --enable-libglslang --enable-vulkan --enable-opencl --enable-libcdio --enable-libgme --enable-libmodplug --enable-libopenmpt --enable-libopencore-amrwb --enable-libmp3lame --enable-libshine --enable-libtheora --enable-libtwolame --enable-libvo-amrwbenc --enable-libilbc --enable-libgsm --enable-libopencore-amrnb --enable-libopus --enable-libspeex --enable-libvorbis --enable-ladspa --enable-libbs2b --enable-libflite --enable-libmysofa --enable-librubberband --enable-libsoxr --enable-chromaprint\n",
      "  libavutil      56. 70.100 / 56. 70.100\n",
      "  libavcodec     58.134.100 / 58.134.100\n",
      "  libavformat    58. 76.100 / 58. 76.100\n",
      "  libavdevice    58. 13.100 / 58. 13.100\n",
      "  libavfilter     7.110.100 /  7.110.100\n",
      "  libswscale      5.  9.100 /  5.  9.100\n",
      "  libswresample   3.  9.100 /  3.  9.100\n",
      "  libpostproc    55.  9.100 / 55.  9.100\n",
      "Input #0, matroska,webm, from '\\\\RiverNAS\\RiverNAS\\Bangumi\\[Nekomoe kissaten&LoliHouse] Dungeon Meshi [WebRip 1080p HEVC-10bit AAC EAC3 ASSx2]\\[Nekomoe kissaten&LoliHouse] Dungeon Meshi - 01 [WebRip 1080p HEVC-10bit AAC EAC3 ASSx2].mkv':\n",
      "  Metadata:\n",
      "    encoder         : libebml v1.4.4 + libmatroska v1.7.1\n",
      "    creation_time   : 2024-01-07T03:47:38.000000Z\n",
      "  Duration: 00:25:30.03, start: 0.000000, bitrate: 4130 kb/s\n",
      "  Stream #0:0: Video: hevc (Main 10), yuv420p10le(tv, bt709), 1920x1080, SAR 1:1 DAR 16:9, 23.98 fps, 23.98 tbr, 1k tbn, 23.98 tbc (default)\n",
      "    Metadata:\n",
      "      BPS             : 3354855\n",
      "      DURATION        : 00:25:30.029000000\n",
      "      NUMBER_OF_FRAMES: 36684\n",
      "      NUMBER_OF_BYTES : 641628344\n",
      "      _STATISTICS_WRITING_APP: mkvmerge v79.0 ('Funeral Pyres') 64-bit\n",
      "      _STATISTICS_WRITING_DATE_UTC: 2024-01-07 03:47:38\n",
      "      _STATISTICS_TAGS: BPS DURATION NUMBER_OF_FRAMES NUMBER_OF_BYTES\n",
      "  Stream #0:1(jpn): Audio: aac (HE-AAC), 48000 Hz, stereo, fltp (default)\n",
      "    Metadata:\n",
      "      BPS             : 127999\n",
      "      DURATION        : 00:25:30.027000000\n",
      "      NUMBER_OF_FRAMES: 35860\n",
      "      NUMBER_OF_BYTES : 24480427\n",
      "      _STATISTICS_WRITING_APP: mkvmerge v79.0 ('Funeral Pyres') 64-bit\n",
      "      _STATISTICS_WRITING_DATE_UTC: 2024-01-07 03:47:38\n",
      "      _STATISTICS_TAGS: BPS DURATION NUMBER_OF_FRAMES NUMBER_OF_BYTES\n",
      "  Stream #0:2(jpn): Audio: eac3, 48000 Hz, 5.1(side), fltp, 640 kb/s\n",
      "    Metadata:\n",
      "      BPS             : 640000\n",
      "      DURATION        : 00:25:30.016000000\n",
      "      NUMBER_OF_FRAMES: 47813\n",
      "      NUMBER_OF_BYTES : 122401280\n",
      "      _STATISTICS_WRITING_APP: mkvmerge v79.0 ('Funeral Pyres') 64-bit\n",
      "      _STATISTICS_WRITING_DATE_UTC: 2024-01-07 03:47:38\n",
      "      _STATISTICS_TAGS: BPS DURATION NUMBER_OF_FRAMES NUMBER_OF_BYTES\n",
      "  Stream #0:3(chi): Subtitle: ass (default)\n",
      "    Metadata:\n",
      "      title           : JPSC\n",
      "      BPS             : 394\n",
      "      DURATION        : 00:25:13.000000000\n",
      "      NUMBER_OF_FRAMES: 1102\n",
      "      NUMBER_OF_BYTES : 74572\n",
      "      _STATISTICS_WRITING_APP: mkvmerge v79.0 ('Funeral Pyres') 64-bit\n",
      "      _STATISTICS_WRITING_DATE_UTC: 2024-01-07 03:47:38\n",
      "      _STATISTICS_TAGS: BPS DURATION NUMBER_OF_FRAMES NUMBER_OF_BYTES\n",
      "  Stream #0:4(chi): Subtitle: ass\n",
      "    Metadata:\n",
      "      title           : JPTC\n",
      "      BPS             : 394\n",
      "      DURATION        : 00:25:13.000000000\n",
      "      NUMBER_OF_FRAMES: 1102\n",
      "      NUMBER_OF_BYTES : 74575\n",
      "      _STATISTICS_WRITING_APP: mkvmerge v79.0 ('Funeral Pyres') 64-bit\n",
      "      _STATISTICS_WRITING_DATE_UTC: 2024-01-07 03:47:38\n",
      "      _STATISTICS_TAGS: BPS DURATION NUMBER_OF_FRAMES NUMBER_OF_BYTES\n",
      "  Stream #0:5: Attachment: otf\n",
      "    Metadata:\n",
      "      filename        : A-OTF-UDShinGoPr6N-DeBold.0.N9YRY2H4.otf\n",
      "      mimetype        : application/vnd.ms-opentype\n",
      "  Stream #0:6: Attachment: ttf\n",
      "    Metadata:\n",
      "      filename        : DFHannotateW7-A.0.DEHAC4EB.ttf\n",
      "      mimetype        : application/x-truetype-font\n",
      "  Stream #0:7: Attachment: otf\n",
      "    Metadata:\n",
      "      filename        : FOT-MatisseProN-B.0.QS17WVIY.otf\n",
      "      mimetype        : application/vnd.ms-opentype\n",
      "  Stream #0:8: Attachment: ttf\n",
      "    Metadata:\n",
      "      filename        : FZYaSong-B-GBK.0.KOIN5MEV.ttf\n",
      "      mimetype        : application/x-truetype-font\n",
      "  Stream #0:9: Attachment: ttf\n",
      "    Metadata:\n",
      "      filename        : FZYaSong-DB-GBK.0.QQ35UXU9.ttf\n",
      "      mimetype        : application/x-truetype-font\n",
      "  Stream #0:10: Attachment: ttf\n",
      "    Metadata:\n",
      "      filename        : FZYingBiKaiShu-S15.0.A5YRLKQA.ttf\n",
      "      mimetype        : application/x-truetype-font\n",
      "  Stream #0:11: Attachment: ttf\n",
      "    Metadata:\n",
      "      filename        : FZYouSong GBK 509R.0.6RVE0LB2.ttf\n",
      "      mimetype        : application/x-truetype-font\n",
      "  Stream #0:12: Attachment: ttf\n",
      "    Metadata:\n",
      "      filename        : FZYunDongHei-M-GBK.0.19HKT481.ttf\n",
      "      mimetype        : application/x-truetype-font\n",
      "  Stream #0:13: Attachment: ttf\n",
      "    Metadata:\n",
      "      filename        : FZZhengHei-B-GBK.0.AWUWBIQ3.ttf\n",
      "      mimetype        : application/x-truetype-font\n",
      "  Stream #0:14: Attachment: otf\n",
      "    Metadata:\n",
      "      filename        : MO-UDShinGoSCGb4-DeB.0.727161MA.otf\n",
      "      mimetype        : application/vnd.ms-opentype\n",
      "Stream mapping:\n",
      "  Stream #0:1 -> #0:0 (aac (native) -> mp3 (libmp3lame))\n",
      "Press [q] to stop, [?] for help\n",
      "Output #0, mp3, to 'output_segments/segment_001.mp3':\n",
      "  Metadata:\n",
      "    TSSE            : Lavf58.76.100\n",
      "  Stream #0:0(jpn): Audio: mp3, 48000 Hz, stereo, fltp (default)\n",
      "    Metadata:\n",
      "      BPS             : 127999\n",
      "      DURATION        : 00:25:30.027000000\n",
      "      NUMBER_OF_FRAMES: 35860\n",
      "      NUMBER_OF_BYTES : 24480427\n",
      "      _STATISTICS_WRITING_APP: mkvmerge v79.0 ('Funeral Pyres') 64-bit\n",
      "      _STATISTICS_WRITING_DATE_UTC: 2024-01-07 03:47:38\n",
      "      _STATISTICS_TAGS: BPS DURATION NUMBER_OF_FRAMES NUMBER_OF_BYTES\n",
      "      encoder         : Lavc58.134.100 libmp3lame\n",
      "size=      32kB time=00:00:01.99 bitrate= 131.9kbits/s speed=0.271x    \n",
      "video:0kB audio:32kB subtitle:0kB other streams:0kB global headers:0kB muxing overhead: 0.726103%\n",
      "\n",
      "Extracted segment 1 to output_segments/segment_001.mp3\n"
     ]
    }
   ],
   "source": [
    "import ffmpeg\n",
    "import pyass\n",
    "import os\n",
    "from datetime import timedelta\n",
    "\n",
    "# def ass_time_to_timedelta(ass_time):\n",
    "#     parts = ass_time.split(':')\n",
    "#     hours = int(parts[0])\n",
    "#     minutes = int(parts[1])\n",
    "#     seconds, milliseconds = map(int, parts[2].split('.'))\n",
    "#     return timedelta(hours=hours, minutes=minutes, seconds=seconds, milliseconds=milliseconds)\n",
    "\n",
    "def extract_audio_segments(mkv_file, ass_file, output_dir):\n",
    "    # 读取ASS文件\n",
    "    with open(ass_file, 'r', encoding='utf-8') as f:\n",
    "        doc = pyass.load(f)\n",
    "    \n",
    "    if not os.path.exists(output_dir):\n",
    "        os.makedirs(output_dir)\n",
    "    \n",
    "    for i, event in enumerate(doc.events):\n",
    "        # 获取字幕的开始时间和结束时间\n",
    "        \n",
    "        start_time = event.start\n",
    "        end_time = event.end\n",
    "        text = event.text\n",
    "        print(text)\n",
    "        \n",
    "        # 转换时间格式为ffmpeg可接受的格式\n",
    "        start_time_str = str(start_time)\n",
    "        duration = end_time - start_time\n",
    "        duration_str = str(duration)\n",
    "        \n",
    "        print(start_time, end_time)\n",
    "        \n",
    "        # 输出文件名\n",
    "        output_file = f\"{output_dir}/segment_{i+1:03}.mp3\"\n",
    "        \n",
    "        print(mkv_file, output_file)\n",
    "        \n",
    "        # 使用ffmpeg提取音频段\n",
    "        ffmpeg = config['tool']['ffmpeg']\n",
    "        os_cmd = f\"\\\"{ffmpeg}\\\" -i \\\"{mkv_file}\\\" -ss {start_time_str} -t {duration_str} \\\"{output_file}\\\"\"\n",
    "        print(os_cmd)\n",
    "        exec_cmd(os_cmd, print_result=True)\n",
    "        \n",
    "        print(f\"Extracted segment {i+1} to {output_file}\")\n",
    "        \n",
    "        break\n",
    "\n",
    "# 示例用法\n",
    "mkv_file = os.path.join(anime_folder, demo_episode)\n",
    "ass_file = demo_srt\n",
    "output_dir = 'output_segments'\n",
    "extract_audio_segments(mkv_file, ass_file, output_dir)\n"
   ]
  },
  {
   "cell_type": "code",
   "execution_count": 16,
   "metadata": {},
   "outputs": [],
   "source": [
    "import ffmpeg"
   ]
  },
  {
   "cell_type": "code",
   "execution_count": null,
   "metadata": {},
   "outputs": [],
   "source": [
    "import ffmpeg.audio\n",
    "\n",
    "\n",
    "ffmpeg.video.split"
   ]
  }
 ],
 "metadata": {
  "kernelspec": {
   "display_name": "Python 3",
   "language": "python",
   "name": "python3"
  },
  "language_info": {
   "codemirror_mode": {
    "name": "ipython",
    "version": 3
   },
   "file_extension": ".py",
   "mimetype": "text/x-python",
   "name": "python",
   "nbconvert_exporter": "python",
   "pygments_lexer": "ipython3",
   "version": "3.12.4"
  }
 },
 "nbformat": 4,
 "nbformat_minor": 2
}
